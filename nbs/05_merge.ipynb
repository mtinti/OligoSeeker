{
 "cells": [
  {
   "cell_type": "markdown",
   "metadata": {},
   "source": [
    "# Merge Module\n",
    "\n",
    "> Functions for merging multiple count CSV files"
   ]
  },
  {
   "cell_type": "code",
   "execution_count": null,
   "metadata": {},
   "outputs": [],
   "source": [
    "#| default_exp merge"
   ]
  },
  {
   "cell_type": "code",
   "execution_count": null,
   "metadata": {},
   "outputs": [],
   "source": [
    "#| hide\n",
    "from nbdev.showdoc import *"
   ]
  },
  {
   "cell_type": "code",
   "execution_count": null,
   "metadata": {},
   "outputs": [],
   "source": [
    "#| export\n",
    "import os\n",
    "import pandas as pd\n",
    "import glob\n",
    "from pathlib import Path\n",
    "from typing import List, Optional"
   ]
  },
  {
   "cell_type": "markdown",
   "metadata": {},
   "source": [
    "## CSV Merger"
   ]
  },
  {
   "cell_type": "code",
   "execution_count": null,
   "metadata": {},
   "outputs": [],
   "source": [
    "#| export\n",
    "def merge_count_csvs(input_dir: str, output_file: str = None, output_dir: str = None, \n",
    "                     pattern: str = \"*count*.csv\") -> pd.DataFrame:\n",
    "    \"\"\"Merge multiple count CSV files by summing values.\n",
    "    \n",
    "    Args:\n",
    "        input_dir: Directory containing count CSV files\n",
    "        output_file: Path to save the merged CSV (if full path provided)\n",
    "        output_dir: Directory to save the output (if output_file is just a filename)\n",
    "        pattern: Glob pattern to match count files (default: \"*count*.csv\")\n",
    "        \n",
    "    Returns:\n",
    "        DataFrame with merged counts\n",
    "    \"\"\"\n",
    "    # Find all matching CSV files\n",
    "    csv_files = glob.glob(os.path.join(input_dir, pattern))\n",
    "    \n",
    "    if not csv_files:\n",
    "        raise ValueError(f\"No CSV files matching pattern '{pattern}' found in {input_dir}\")\n",
    "    \n",
    "    print(f\"Found {len(csv_files)} CSV files to merge\")\n",
    "    \n",
    "    # Read all CSVs\n",
    "    dfs = []\n",
    "    for file in csv_files:\n",
    "        df = pd.read_csv(file, index_col=0)\n",
    "        print(f\"  Loaded {file} with {len(df)} rows and {len(df.columns)} columns\")\n",
    "        dfs.append(df)\n",
    "    \n",
    "    # Merge by summing values for each codon and oligo\n",
    "    merged_df = pd.concat(dfs).groupby(level=0).sum()\n",
    "    \n",
    "    # Determine output location\n",
    "    if output_file:\n",
    "        if output_dir:\n",
    "            # Both output_dir and output_file provided - combine them\n",
    "            final_output_path = os.path.join(output_dir, output_file)\n",
    "        else:\n",
    "            # Just output_file - might be a full path or just a filename\n",
    "            if os.path.dirname(output_file):\n",
    "                # It's a full path\n",
    "                final_output_path = output_file\n",
    "            else:\n",
    "                # Just a filename - save to input_dir\n",
    "                final_output_path = os.path.join(input_dir, output_file)\n",
    "    else:\n",
    "        # No output_file specified - use default filename\n",
    "        if output_dir:\n",
    "            # Use output_dir with default filename\n",
    "            final_output_path = os.path.join(output_dir, \"merged_counts.csv\")\n",
    "        else:\n",
    "            # Use input_dir with default filename\n",
    "            final_output_path = os.path.join(input_dir, \"merged_counts.csv\")\n",
    "    \n",
    "    # Ensure directory exists\n",
    "    os.makedirs(os.path.dirname(os.path.abspath(final_output_path)), exist_ok=True)\n",
    "    \n",
    "    # Save merged data\n",
    "    merged_df.to_csv(final_output_path)\n",
    "    print(f\"Merged data saved to {final_output_path}\")\n",
    "    \n",
    "    return merged_df"
   ]
  },
  {
   "cell_type": "code",
   "execution_count": null,
   "metadata": {},
   "outputs": [],
   "source": [
    "#| hide\n",
    "import nbdev; nbdev.nbdev_export()"
   ]
  },
  {
   "cell_type": "code",
   "execution_count": null,
   "metadata": {},
   "outputs": [],
   "source": []
  }
 ],
 "metadata": {
  "kernelspec": {
   "display_name": "python3",
   "language": "python",
   "name": "python3"
  }
 },
 "nbformat": 4,
 "nbformat_minor": 4
}
