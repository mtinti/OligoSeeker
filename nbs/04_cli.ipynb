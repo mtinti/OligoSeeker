{
 "cells": [
  {
   "cell_type": "markdown",
   "metadata": {},
   "source": [
    "# Command-Line Interface\n",
    "\n",
    "> Command-line interface for OligoSeeker"
   ]
  },
  {
   "cell_type": "code",
   "execution_count": null,
   "metadata": {},
   "outputs": [],
   "source": [
    "#| default_exp cli"
   ]
  },
  {
   "cell_type": "code",
   "execution_count": null,
   "metadata": {},
   "outputs": [],
   "source": [
    "#| hide\n",
    "from nbdev.showdoc import *"
   ]
  },
  {
   "cell_type": "code",
   "execution_count": null,
   "metadata": {},
   "outputs": [
    {
     "name": "stderr",
     "output_type": "stream",
     "text": [
      "/Users/MTinti/miniconda3/envs/work3/lib/python3.10/site-packages/pandas/core/arrays/masked.py:60: UserWarning: Pandas requires version '1.3.6' or newer of 'bottleneck' (version '1.3.4' currently installed).\n",
      "  from pandas.core import (\n"
     ]
    }
   ],
   "source": [
    "#| export\n",
    "import argparse\n",
    "import sys\n",
    "import logging\n",
    "import os\n",
    "from typing import List, Optional\n",
    "\n",
    "from OligoSeeker.pipeline import PipelineConfig, OligoCodonPipeline"
   ]
  },
  {
   "cell_type": "markdown",
   "metadata": {},
   "source": [
    "## Argument Parser"
   ]
  },
  {
   "cell_type": "code",
   "execution_count": null,
   "metadata": {},
   "outputs": [],
   "source": [
    "#| export\n",
    "def create_parser() -> argparse.ArgumentParser:\n",
    "    \"\"\"Create command-line argument parser.\n",
    "    \n",
    "    Returns:\n",
    "        Configured argument parser\n",
    "    \"\"\"\n",
    "    parser = argparse.ArgumentParser(\n",
    "        description=\"OligoSeeker: Process FASTQ files to count oligo codons\",\n",
    "        formatter_class=argparse.ArgumentDefaultsHelpFormatter\n",
    "    )\n",
    "    \n",
    "    # Required arguments\n",
    "    parser.add_argument('--f1', '--fastq_1', dest='fastq_path_1', required=True,\n",
    "                        default=\"../test_fastq_files/test_1.fq.gz\",\n",
    "                        help=\"Path to FASTQ 1 file\")\n",
    "    \n",
    "    parser.add_argument('--f2', '--fastq_2', dest='fastq_path_2', required=True,\n",
    "                        default=\"../test_fastq_files/test_2.fq.gz\",\n",
    "                        help=\"Path to FASTQ 2 file\")   \n",
    "    \n",
    "    # Oligo source (at least one required)\n",
    "    oligo_group = parser.add_argument_group(\"Oligo Source Options (one required)\")\n",
    "    \n",
    "    oligo_group.add_argument('--oligos-file', dest='oligos_file',\n",
    "                           help=\"File containing oligo sequences (one per line)\")\n",
    "    \n",
    "    oligo_group.add_argument('--oligos', dest='oligos_string',\n",
    "                             default=\"GCGGATTACATTNNNAAATAACATCGT,TGTGGTAAGCGGNNNGAAAGCATTTGT,GTCGTAGAAAATNNNTGGGTGATGAGC\",\n",
    "                           help=\"Comma-separated list of oligo sequences\")\n",
    "    \n",
    "    # Output options\n",
    "    parser.add_argument('-o', '--output', dest='output_path', default=\"./results\",\n",
    "                        help=\"Output directory for results\")\n",
    "    \n",
    "    parser.add_argument('--prefix', dest='output_prefix', default=\"\",\n",
    "                        help=\"Prefix for output files\")\n",
    "    \n",
    "    parser.add_argument('--offset', dest='offset_oligo', type=int, default=1,\n",
    "                        help=\"Value to add to oligo index in output\")\n",
    "    \n",
    "    # Logging options\n",
    "    parser.add_argument('--log-file', dest='log_file',\n",
    "                        help=\"Path to log file (if not specified, logs to console only)\")\n",
    "    \n",
    "    parser.add_argument('--log-level', dest='log_level', default=\"INFO\",\n",
    "                        choices=[\"DEBUG\", \"INFO\", \"WARNING\", \"ERROR\", \"CRITICAL\"],\n",
    "                        help=\"Logging level\")\n",
    "    \n",
    "    return parser"
   ]
  },
  {
   "cell_type": "markdown",
   "metadata": {},
   "source": [
    "## Command-Line Runner"
   ]
  },
  {
   "cell_type": "code",
   "execution_count": null,
   "metadata": {},
   "outputs": [],
   "source": [
    "#| export\n",
    "def validate_args(args: argparse.Namespace) -> bool:\n",
    "    \"\"\"Validate command-line arguments.\n",
    "    \n",
    "    Args:\n",
    "        args: Parsed command-line arguments\n",
    "        \n",
    "    Returns:\n",
    "        True if arguments are valid, False otherwise\n",
    "    \"\"\"\n",
    "    if not (args.oligos_file or args.oligos_string):\n",
    "        print(\"Error: You must specify either --oligos-file or --oligos\")\n",
    "        return False\n",
    "        \n",
    "    if args.oligos_file and not os.path.exists(args.oligos_file):\n",
    "        print(f\"Error: Oligos file does not exist: {args.oligos_file}\")\n",
    "        return False\n",
    "        \n",
    "    if not os.path.exists(args.fastq_path_1):\n",
    "        print(f\"Error: FASTQ file 1 does not exist: {args.fastq_path_1}\")\n",
    "        return False\n",
    "    \n",
    "    if not os.path.exists(args.fastq_path_2):\n",
    "        print(f\"Error: FASTQ file 2 does not exist: {args.fastq_path_2}\")\n",
    "        return False        \n",
    "    \n",
    "    return True"
   ]
  },
  {
   "cell_type": "code",
   "execution_count": null,
   "metadata": {},
   "outputs": [],
   "source": [
    "#| export\n",
    "def args_to_config(args: argparse.Namespace) -> PipelineConfig:\n",
    "    \"\"\"Convert command-line arguments to pipeline configuration.\n",
    "    \n",
    "    Args:\n",
    "        args: Parsed command-line arguments\n",
    "        \n",
    "    Returns:\n",
    "        Pipeline configuration object\n",
    "    \"\"\"\n",
    "    # Convert log level string to int\n",
    "    log_level = getattr(logging, args.log_level)\n",
    "    \n",
    "    return PipelineConfig(\n",
    "        fastq_1=args.fastq_path_1,\n",
    "        fastq_2=args.fastq_path_2,\n",
    "        oligos_file=args.oligos_file,\n",
    "        oligos_string=args.oligos_string,\n",
    "        oligos_list=None,  # Not used in CLI\n",
    "        output_path=args.output_path,\n",
    "        output_prefix=args.output_prefix,\n",
    "        offset_oligo=args.offset_oligo,\n",
    "        log_file=args.log_file,\n",
    "        log_level=log_level\n",
    "    )"
   ]
  },
  {
   "cell_type": "code",
   "execution_count": null,
   "metadata": {},
   "outputs": [],
   "source": [
    "#| export\n",
    "def run_cli(args: Optional[List[str]] = None) -> int:\n",
    "    \"\"\"Run the command-line interface.\n",
    "    \n",
    "    Args:\n",
    "        args: Command-line arguments (if None, uses sys.argv)\n",
    "        \n",
    "    Returns:\n",
    "        Exit code (0 for success, non-zero for failure)\n",
    "    \"\"\"\n",
    "    parser = create_parser()\n",
    "    \n",
    "    # When testing, avoid sys.exit() errors by just returning the error code\n",
    "    is_testing = 'ipykernel' in sys.modules or os.environ.get('NBDEV_TEST') == '1'\n",
    "    \n",
    "    try:\n",
    "        parsed_args = parser.parse_args(args)\n",
    "        \n",
    "        if not validate_args(parsed_args):\n",
    "            parser.print_help()\n",
    "            return 1\n",
    "        \n",
    "        # Convert args to config\n",
    "        config = args_to_config(parsed_args)\n",
    "        \n",
    "        # When testing, we might want to mock the pipeline run\n",
    "        if is_testing and os.environ.get('MOCK_PIPELINE') == '1':\n",
    "            print(\"Mock pipeline run (for testing)\")\n",
    "            return 0\n",
    "            \n",
    "        # Run pipeline\n",
    "        pipeline = OligoCodonPipeline(config)\n",
    "        results = pipeline.run()\n",
    "        \n",
    "        # Print summary information\n",
    "        print(\"\\nResults saved to:\")\n",
    "        print(f\"  CSV: {results['csv_path']}\")\n",
    "        if 'excel_path' in results:\n",
    "            print(f\"  Excel: {results['excel_path']}\")\n",
    "        if 'json_path' in results:\n",
    "            print(f\"  Summary JSON: {results['json_path']}\")\n",
    "        \n",
    "        print(f\"\\nProcessed {results['oligos_processed']} oligos in {results['elapsed_time']:.2f} seconds\")\n",
    "        \n",
    "        return 0\n",
    "    except Exception as e:\n",
    "        print(f\"Error: {str(e)}\")\n",
    "        import traceback\n",
    "        traceback.print_exc()\n",
    "        return 1\n",
    "    except SystemExit as e:\n",
    "        # Catch SystemExit and just return the code instead of exiting\n",
    "        if is_testing:\n",
    "            print(f\"Caught SystemExit: {e.code}\")\n",
    "            return e.code\n",
    "        else:\n",
    "            raise"
   ]
  },
  {
   "cell_type": "code",
   "execution_count": null,
   "metadata": {},
   "outputs": [],
   "source": [
    "#| export\n",
    "def main():\n",
    "    \"\"\"Main entry point for command-line execution.\"\"\"\n",
    "    # Only actually call sys.exit() when running as a script, not in tests or notebooks\n",
    "    is_notebook_or_test = 'ipykernel' in sys.modules or 'pytest' in sys.modules or 'NBDEV_TEST' in os.environ\n",
    "    \n",
    "    # Use test arguments when in test/notebook environment\n",
    "    if is_notebook_or_test:\n",
    "        test_args = [\n",
    "            '--f1', '../test_files/test_1.fq.gz',\n",
    "            '--f2', '../test_files/test_2.fq.gz',\n",
    "            '--oligos', 'GCGGATTACATTNNNAAATAACATCGT,TGTGGTAAGCGGNNNGAAAGCATTTGT,GTCGTAGAAAATNNNTGGGTGATGAGC',\n",
    "            '--output', '../test_files/test_outs',\n",
    "            '--prefix', 'test_cm1'\n",
    "        ]\n",
    "        run_cli(test_args)\n",
    "\n",
    "        test_args = [\n",
    "            '--f1', '../test_files/test_1.fq.gz',\n",
    "            '--f2', '../test_files/test_2.fq.gz',\n",
    "            '--oligos-file', '../test_files/oligos.txt',\n",
    "            '--output', '../test_files/test_outs',\n",
    "            '--prefix', 'test_cm2'\n",
    "        ]\n",
    "        run_cli(test_args)\n",
    "        \n",
    "        return 0\n",
    "    else:\n",
    "        return run_cli()"
   ]
  },
  {
   "cell_type": "code",
   "execution_count": null,
   "metadata": {},
   "outputs": [
    {
     "name": "stderr",
     "output_type": "stream",
     "text": [
      "2025-03-11 17:24:37,057 - INFO - Starting OligoCodonPipeline\n",
      "2025-03-11 17:24:37,058 - INFO - Loading oligo sequences...\n",
      "2025-03-11 17:24:37,058 - INFO - Loading oligos from provided string\n",
      "2025-03-11 17:24:37,059 - INFO - Loaded 3 oligo sequences\n",
      "2025-03-11 17:24:37,059 - INFO - Processing FASTQ files...\n"
     ]
    },
    {
     "data": {
      "application/vnd.jupyter.widget-view+json": {
       "model_id": "d4da5dd7d0c8438d8436df11a84fd5b8",
       "version_major": 2,
       "version_minor": 0
      },
      "text/plain": [
       "0it [00:00, ?it/s]"
      ]
     },
     "metadata": {},
     "output_type": "display_data"
    },
    {
     "name": "stderr",
     "output_type": "stream",
     "text": [
      "2025-03-11 17:24:37,123 - INFO - Formatting results...\n",
      "2025-03-11 17:24:37,125 - INFO - Saving results to: ../test_files/test_outs/test_cm1_counts.csv\n",
      "2025-03-11 17:24:37,129 - INFO - Pipeline completed in 0.07 seconds\n",
      "2025-03-11 17:24:37,132 - INFO - Starting OligoCodonPipeline\n",
      "2025-03-11 17:24:37,133 - INFO - Loading oligo sequences...\n",
      "2025-03-11 17:24:37,133 - INFO - Loading oligos from file: ../test_files/oligos.txt\n",
      "2025-03-11 17:24:37,137 - INFO - Loaded 3 oligo sequences\n",
      "2025-03-11 17:24:37,137 - INFO - Processing FASTQ files...\n"
     ]
    },
    {
     "name": "stdout",
     "output_type": "stream",
     "text": [
      "\n",
      "Results saved to:\n",
      "  CSV: ../test_files/test_outs/test_cm1_counts.csv\n",
      "\n",
      "Processed 3 oligos in 0.07 seconds\n"
     ]
    },
    {
     "data": {
      "application/vnd.jupyter.widget-view+json": {
       "model_id": "632bf07494c8496b836efd4e44cb2f4e",
       "version_major": 2,
       "version_minor": 0
      },
      "text/plain": [
       "0it [00:00, ?it/s]"
      ]
     },
     "metadata": {},
     "output_type": "display_data"
    },
    {
     "name": "stderr",
     "output_type": "stream",
     "text": [
      "2025-03-11 17:24:37,191 - INFO - Formatting results...\n",
      "2025-03-11 17:24:37,193 - INFO - Saving results to: ../test_files/test_outs/test_cm2_counts.csv\n",
      "2025-03-11 17:24:37,197 - INFO - Pipeline completed in 0.06 seconds\n"
     ]
    },
    {
     "name": "stdout",
     "output_type": "stream",
     "text": [
      "\n",
      "Results saved to:\n",
      "  CSV: ../test_files/test_outs/test_cm2_counts.csv\n",
      "\n",
      "Processed 3 oligos in 0.06 seconds\n",
      "\n",
      "CLI completed with exit code: 0\n"
     ]
    }
   ],
   "source": [
    "#| eval: false\n",
    "#| export\n",
    "if __name__ == \"__main__\":\n",
    "    # For safety, wrap in try/except to catch any SystemExit\n",
    "    try:\n",
    "        exit_code = main()\n",
    "        is_notebook_or_test = 'ipykernel' in sys.modules or 'pytest' in sys.modules or 'NBDEV_TEST' in os.environ\n",
    "        if is_notebook_or_test:\n",
    "            print(f\"\\nCLI completed with exit code: {exit_code}\")\n",
    "    except SystemExit as e:\n",
    "        # Just in case, catch any SystemExit and print instead\n",
    "        print(f\"\\nSystemExit caught with code: {e.code}\")"
   ]
  },
  {
   "cell_type": "code",
   "execution_count": null,
   "metadata": {},
   "outputs": [
    {
     "name": "stdout",
     "output_type": "stream",
     "text": [
      "CLI parsing test passed!\n"
     ]
    }
   ],
   "source": [
    "#| hide\n",
    "#| test\n",
    "def test_cli():\n",
    "    \"\"\"Test function for nbdev testing.\"\"\"\n",
    "    test_args = [\n",
    "        '--f1', '../test_files/test_1.fq.gz',\n",
    "        '--f2', '../test_files/test_2.fq.gz',\n",
    "        '--oligos', 'GCGGATTACATTNNNAAATAACATCGT',\n",
    "        '--output', '../test_files/test_outs',\n",
    "        '--prefix', 'test_cm'\n",
    "    ]\n",
    "    \n",
    "    # Don't actually run the pipeline, just test that parsing works\n",
    "    parser = create_parser()\n",
    "    args = parser.parse_args(test_args)\n",
    "    assert args.fastq_path_1 == '../test_files/test_1.fq.gz'\n",
    "    assert args.fastq_path_2 == '../test_files/test_2.fq.gz'\n",
    "    assert 'GCGGATTACATTNNNAAATAACATCGT' in args.oligos_string\n",
    "    assert args.output_path == '../test_files/test_outs'\n",
    "    \n",
    "    # Test completed successfully\n",
    "    print(\"CLI parsing test passed!\")\n",
    "    return True\n",
    "\n",
    "# Run the test\n",
    "test_result = test_cli()\n",
    "assert test_result is True"
   ]
  },
  {
   "cell_type": "code",
   "execution_count": null,
   "metadata": {},
   "outputs": [
    {
     "name": "stdout",
     "output_type": "stream",
     "text": [
      "/Users/MTinti/miniconda3/envs/work3/lib/python3.10/site-packages/pandas/core/arrays/masked.py:60: UserWarning: Pandas requires version '1.3.6' or newer of 'bottleneck' (version '1.3.4' currently installed).\n",
      "  from pandas.core import (\n",
      "2025-03-11 17:27:08,292 - INFO - Starting OligoCodonPipeline\n",
      "2025-03-11 17:27:08,292 - INFO - Loading oligo sequences...\n",
      "2025-03-11 17:27:08,292 - INFO - Loading oligos from provided string\n",
      "2025-03-11 17:27:08,292 - INFO - Loaded 2 oligo sequences\n",
      "2025-03-11 17:27:08,292 - INFO - Processing FASTQ files...\n",
      "2000it [00:00, 69106.31it/s]\n",
      "2025-03-11 17:27:08,338 - INFO - Formatting results...\n",
      "2025-03-11 17:27:08,340 - INFO - Saving results to: ../test_files/test_outs/test_cm2_counts.csv\n",
      "2025-03-11 17:27:08,345 - INFO - Pipeline completed in 0.05 seconds\n",
      "\n",
      "Results saved to:\n",
      "  CSV: ../test_files/test_outs/test_cm2_counts.csv\n",
      "\n",
      "Processed 2 oligos in 0.05 seconds\n"
     ]
    }
   ],
   "source": [
    "!oligoseeker --f1 ../test_files/test_1.fq.gz --f2 ../test_files/test_2.fq.gz \\\n",
    "--oligos \"GCGGATTACATTNNNAAATAACATCGT,TGTGGTAAGCGGNNNGAAAGCATTTGT\" --output ../test_files/test_outs --prefix test_cm1"
   ]
  },
  {
   "cell_type": "code",
   "execution_count": null,
   "metadata": {},
   "outputs": [
    {
     "name": "stdout",
     "output_type": "stream",
     "text": [
      "/Users/MTinti/miniconda3/envs/work3/lib/python3.10/site-packages/pandas/core/arrays/masked.py:60: UserWarning: Pandas requires version '1.3.6' or newer of 'bottleneck' (version '1.3.4' currently installed).\n",
      "  from pandas.core import (\n",
      "2025-03-11 17:28:07,749 - INFO - Starting OligoCodonPipeline\n",
      "2025-03-11 17:28:07,749 - INFO - Loading oligo sequences...\n",
      "2025-03-11 17:28:07,749 - INFO - Loading oligos from file: ../test_files/oligos.txt\n",
      "2025-03-11 17:28:07,750 - INFO - Loaded 3 oligo sequences\n",
      "2025-03-11 17:28:07,750 - INFO - Processing FASTQ files...\n",
      "2000it [00:00, 57755.28it/s]\n",
      "2025-03-11 17:28:07,801 - INFO - Formatting results...\n",
      "2025-03-11 17:28:07,802 - INFO - Saving results to: ../test_files/test_outs/test_cm2_counts.csv\n",
      "2025-03-11 17:28:07,808 - INFO - Pipeline completed in 0.06 seconds\n",
      "\n",
      "Results saved to:\n",
      "  CSV: ../test_files/test_outs/test_cm2_counts.csv\n",
      "\n",
      "Processed 3 oligos in 0.06 seconds\n"
     ]
    }
   ],
   "source": [
    "!oligoseeker --f1 ../test_files/test_1.fq.gz --f2 ../test_files/test_2.fq.gz \\\n",
    "--oligos-file '../test_files/oligos.txt' --output ../test_files/test_outs --prefix test_cm2"
   ]
  },
  {
   "cell_type": "code",
   "execution_count": null,
   "metadata": {},
   "outputs": [],
   "source": []
  }
 ],
 "metadata": {
  "kernelspec": {
   "display_name": "python3",
   "language": "python",
   "name": "python3"
  }
 },
 "nbformat": 4,
 "nbformat_minor": 4
}
