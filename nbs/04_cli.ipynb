{
 "cells": [
  {
   "cell_type": "code",
   "execution_count": null,
   "metadata": {},
   "outputs": [],
   "source": [
    "#| hide\n",
    "%load_ext autoreload\n",
    "%autoreload 2"
   ]
  },
  {
   "cell_type": "markdown",
   "metadata": {},
   "source": [
    "# Command-Line Interface\n",
    "\n",
    "> Command-line interface for OligoSeeker"
   ]
  },
  {
   "cell_type": "code",
   "execution_count": null,
   "metadata": {},
   "outputs": [],
   "source": [
    "#| default_exp cli"
   ]
  },
  {
   "cell_type": "code",
   "execution_count": null,
   "metadata": {},
   "outputs": [],
   "source": [
    "#| hide\n",
    "from nbdev.showdoc import *"
   ]
  },
  {
   "cell_type": "code",
   "execution_count": null,
   "metadata": {},
   "outputs": [
    {
     "name": "stderr",
     "output_type": "stream",
     "text": [
      "/Users/MTinti/miniconda3/envs/work3/lib/python3.10/site-packages/pandas/core/arrays/masked.py:60: UserWarning: Pandas requires version '1.3.6' or newer of 'bottleneck' (version '1.3.4' currently installed).\n",
      "  from pandas.core import (\n"
     ]
    }
   ],
   "source": [
    "#| export\n",
    "import argparse\n",
    "import sys\n",
    "import logging\n",
    "import os\n",
    "from typing import List, Optional\n",
    "\n",
    "from OligoSeeker.merge import merge_count_csvs\n",
    "from OligoSeeker.pipeline import PipelineConfig, OligoCodonPipeline"
   ]
  },
  {
   "cell_type": "markdown",
   "metadata": {},
   "source": [
    "## Argument Parser"
   ]
  },
  {
   "cell_type": "code",
   "execution_count": null,
   "metadata": {},
   "outputs": [],
   "source": [
    "#| export\n",
    "def create_parser() -> argparse.ArgumentParser:\n",
    "    \"\"\"Create command-line argument parser.\n",
    "    \n",
    "    Returns:\n",
    "        Configured argument parser\n",
    "    \"\"\"\n",
    "    parser = argparse.ArgumentParser(\n",
    "        description=\"OligoSeeker: Process FASTQ files to count oligo codons\",\n",
    "        formatter_class=argparse.ArgumentDefaultsHelpFormatter\n",
    "    )\n",
    "    \n",
    "    # Mode selection\n",
    "    parser.add_argument('-m', '--mode', dest='mode', \n",
    "                        choices=['count', 'merge'],\n",
    "                        default='count',\n",
    "                        help=\"Operation mode: 'count' to process FASTQ files or 'merge' to combine CSV counts\")\n",
    "    \n",
    "    # Count mode options\n",
    "    count_group = parser.add_argument_group(\"Count Mode Options\")\n",
    "    \n",
    "    count_group.add_argument('--f1', '--fastq_1', dest='fastq_path_1',\n",
    "                        default=\"../test_fastq_files/test_1.fq.gz\",\n",
    "                        help=\"Path to FASTQ 1 file (required for count mode)\")\n",
    "    \n",
    "    count_group.add_argument('--f2', '--fastq_2', dest='fastq_path_2',\n",
    "                        default=\"../test_fastq_files/test_2.fq.gz\",\n",
    "                        help=\"Path to FASTQ 2 file (required for count mode)\")\n",
    "    \n",
    "    # Oligo source (at least one required for count mode)\n",
    "    oligo_group = parser.add_argument_group(\"Oligo Source Options\")\n",
    "    \n",
    "    oligo_group.add_argument('--oligos-file', dest='oligos_file',\n",
    "                           help=\"File containing oligo sequences (one per line)\")\n",
    "    \n",
    "    oligo_group.add_argument('--oligos', dest='oligos_string',\n",
    "                             default=\"GCGGATTACATTNNNAAATAACATCGT,TGTGGTAAGCGGNNNGAAAGCATTTGT,GTCGTAGAAAATNNNTGGGTGATGAGC\",\n",
    "                           help=\"Comma-separated list of oligo sequences\")\n",
    "    \n",
    "    oligo_group.add_argument('--offset', dest='offset_oligo', type=int, default=1,\n",
    "                        help=\"Value to add to oligo index in output\") \n",
    "\n",
    "    # Merge mode options\n",
    "    merge_group = parser.add_argument_group(\"Merge Mode Options\")\n",
    "    \n",
    "    merge_group.add_argument('--input-dir', dest='input_dir',\n",
    "                           help=\"Directory containing CSV files to merge (required for merge mode)\")\n",
    "    \n",
    "    merge_group.add_argument('--output-file', dest='output_file', \n",
    "                           default=\"merged_counts.csv\",\n",
    "                           help=\"Name of the output merged file\")\n",
    "    \n",
    "    merge_group.add_argument('--pattern', dest='pattern', \n",
    "                           default=\"*count*.csv\",\n",
    "                           help=\"Pattern to match CSV files\")\n",
    "    \n",
    "    # Common options\n",
    "    parser.add_argument('-o', '--output', dest='output_path', default=\"../test_files/test_outs\",\n",
    "                        help=\"Output directory for results\")\n",
    "    \n",
    "    parser.add_argument('--prefix', dest='output_prefix', default=\"\",\n",
    "                        help=\"Prefix for output files\")\n",
    "    \n",
    "\n",
    "    \n",
    "    # Logging options\n",
    "    parser.add_argument('--log-file', dest='log_file',\n",
    "                        help=\"Path to log file (if not specified, logs to console only)\")\n",
    "    \n",
    "    parser.add_argument('--log-level', dest='log_level', default=\"INFO\",\n",
    "                        choices=[\"DEBUG\", \"INFO\", \"WARNING\", \"ERROR\", \"CRITICAL\"],\n",
    "                        help=\"Logging level\")\n",
    "    \n",
    "    return parser"
   ]
  },
  {
   "cell_type": "markdown",
   "metadata": {},
   "source": [
    "## Command-Line Runner"
   ]
  },
  {
   "cell_type": "code",
   "execution_count": null,
   "metadata": {},
   "outputs": [],
   "source": [
    "#| export\n",
    "def validate_args(args: argparse.Namespace) -> bool:\n",
    "    \"\"\"Validate command-line arguments.\n",
    "    \n",
    "    Args:\n",
    "        args: Parsed command-line arguments\n",
    "        \n",
    "    Returns:\n",
    "        True if arguments are valid, False otherwise\n",
    "    \"\"\"\n",
    "    # Only validate count mode arguments\n",
    "    if args.mode == 'count':\n",
    "        if not (args.oligos_file or args.oligos_string):\n",
    "            print(\"Error: You must specify either --oligos-file or --oligos in count mode\")\n",
    "            return False\n",
    "            \n",
    "        if args.oligos_file and not os.path.exists(args.oligos_file):\n",
    "            print(f\"Error: Oligos file does not exist: {args.oligos_file}\")\n",
    "            return False\n",
    "            \n",
    "        if not os.path.exists(args.fastq_path_1):\n",
    "            print(f\"Error: FASTQ file 1 does not exist: {args.fastq_path_1}\")\n",
    "            return False\n",
    "        \n",
    "        if not os.path.exists(args.fastq_path_2):\n",
    "            print(f\"Error: FASTQ file 2 does not exist: {args.fastq_path_2}\")\n",
    "            return False\n",
    "    \n",
    "    # Merge mode validation happens in run_cli\n",
    "    return True"
   ]
  },
  {
   "cell_type": "code",
   "execution_count": null,
   "metadata": {},
   "outputs": [],
   "source": [
    "#| export\n",
    "def args_to_config(args: argparse.Namespace) -> PipelineConfig:\n",
    "    \"\"\"Convert command-line arguments to pipeline configuration.\n",
    "    \n",
    "    Args:\n",
    "        args: Parsed command-line arguments\n",
    "        \n",
    "    Returns:\n",
    "        Pipeline configuration object\n",
    "    \"\"\"\n",
    "    # Convert log level string to int\n",
    "    log_level = getattr(logging, args.log_level)\n",
    "    \n",
    "    return PipelineConfig(\n",
    "        fastq_1=args.fastq_path_1,\n",
    "        fastq_2=args.fastq_path_2,\n",
    "        oligos_file=args.oligos_file,\n",
    "        oligos_string=args.oligos_string,\n",
    "        oligos_list=None,  # Not used in CLI\n",
    "        output_path=args.output_path,\n",
    "        output_prefix=args.output_prefix,\n",
    "        offset_oligo=args.offset_oligo,\n",
    "        log_file=args.log_file,\n",
    "        log_level=log_level\n",
    "    )"
   ]
  },
  {
   "cell_type": "code",
   "execution_count": null,
   "metadata": {},
   "outputs": [],
   "source": [
    "#| export\n",
    "def run_cli(args: Optional[List[str]] = None) -> int:\n",
    "    \"\"\"Run the command-line interface.\n",
    "    \n",
    "    Args:\n",
    "        args: Command-line arguments (if None, uses sys.argv)\n",
    "        \n",
    "    Returns:\n",
    "        Exit code (0 for success, non-zero for failure)\n",
    "    \"\"\"\n",
    "    parser = create_parser()\n",
    "    \n",
    "    # When testing, avoid sys.exit() errors by just returning the error code\n",
    "    is_testing = 'ipykernel' in sys.modules or os.environ.get('NBDEV_TEST') == '1'\n",
    "    \n",
    "    try:\n",
    "        parsed_args = parser.parse_args(args)\n",
    "        \n",
    "        # Handle different modes\n",
    "        if parsed_args.mode == 'merge':\n",
    "            # Merge mode\n",
    "            if not parsed_args.input_dir:\n",
    "                print(\"Error: --input-dir is required for merge mode\")\n",
    "                return 1\n",
    "            \n",
    "            # Perform merge operation\n",
    "            merged_df = merge_count_csvs(\n",
    "                input_dir=parsed_args.input_dir,\n",
    "                output_file=parsed_args.output_file,\n",
    "                output_dir=parsed_args.output_path,\n",
    "                pattern=parsed_args.pattern\n",
    "            )\n",
    "            \n",
    "            print(f\"\\nMerge completed successfully!\")\n",
    "            print(f\"Merged {len(merged_df)} unique codons across all input files\")\n",
    "            print(f\"Results contain {len(merged_df.columns)} oligo columns\")\n",
    "            \n",
    "            return 0\n",
    "        \n",
    "        elif parsed_args.mode == 'count':\n",
    "            # Count mode - validate required arguments\n",
    "            if not validate_args(parsed_args):\n",
    "                parser.print_help()\n",
    "                return 1\n",
    "            \n",
    "            # Convert args to config\n",
    "            config = args_to_config(parsed_args)\n",
    "            \n",
    "            # When testing, we might want to mock the pipeline run\n",
    "            if is_testing and os.environ.get('MOCK_PIPELINE') == '1':\n",
    "                print(\"Mock pipeline run (for testing)\")\n",
    "                return 0\n",
    "                \n",
    "            # Run pipeline\n",
    "            pipeline = OligoCodonPipeline(config)\n",
    "            results = pipeline.run()\n",
    "            \n",
    "            # Print summary information\n",
    "            print(\"\\nResults saved to:\")\n",
    "            print(f\"  CSV: {results['csv_path']}\")\n",
    "            if 'excel_path' in results:\n",
    "                print(f\"  Excel: {results['excel_path']}\")\n",
    "            if 'json_path' in results:\n",
    "                print(f\"  Summary JSON: {results['json_path']}\")\n",
    "            \n",
    "            print(f\"\\nProcessed {results['oligos_processed']} oligos in {results['elapsed_time']:.2f} seconds\")\n",
    "            \n",
    "            return 0\n",
    "        \n",
    "        else:\n",
    "            print(f\"Error: Unknown mode: {parsed_args.mode}\")\n",
    "            return 1\n",
    "    \n",
    "    except Exception as e:\n",
    "        print(f\"Error: {str(e)}\")\n",
    "        import traceback\n",
    "        traceback.print_exc()\n",
    "        return 1\n",
    "    except SystemExit as e:\n",
    "        # Catch SystemExit and just return the code instead of exiting\n",
    "        if is_testing:\n",
    "            print(f\"Caught SystemExit: {e.code}\")\n",
    "            return e.code\n",
    "        else:\n",
    "            raise"
   ]
  },
  {
   "cell_type": "code",
   "execution_count": null,
   "metadata": {},
   "outputs": [],
   "source": [
    "#| export\n",
    "def main():\n",
    "    \"\"\"Main entry point for command-line execution.\"\"\"\n",
    "    # Only actually call sys.exit() when running as a script, not in tests or notebooks\n",
    "    is_notebook_or_test = 'ipykernel' in sys.modules or 'pytest' in sys.modules or 'NBDEV_TEST' in os.environ\n",
    "    \n",
    "    # Use test arguments when in test/notebook environment\n",
    "    if is_notebook_or_test:\n",
    "        # Test count mode\n",
    "        test_args = [\n",
    "            '-m', 'count',\n",
    "            '--f1', '../test_files/test_1.fq.gz',\n",
    "            '--f2', '../test_files/test_2.fq.gz',\n",
    "            '--oligos', 'GCGGATTACATTNNNAAATAACATCGT,TGTGGTAAGCGGNNNGAAAGCATTTGT,GTCGTAGAAAATNNNTGGGTGATGAGC',\n",
    "            '-o', '../test_files/test_outs',\n",
    "            '--prefix', 'test_cm1'\n",
    "        ]\n",
    "        run_cli(test_args)\n",
    "\n",
    "        test_args = [\n",
    "            '-m', 'count',\n",
    "            '--f1', '../test_files/test_1.fq.gz',\n",
    "            '--f2', '../test_files/test_2.fq.gz',\n",
    "            '--oligos-file', '../test_files/oligos.txt',\n",
    "            '-o', '../test_files/test_outs',\n",
    "            '--prefix', 'test_cm2'\n",
    "        ]\n",
    "        run_cli(test_args)\n",
    "        \n",
    "        \n",
    "        \n",
    "        # Test merge mode\n",
    "        test_args = [\n",
    "            '-m', 'merge',\n",
    "            '--input-dir', '../test_files/test_outs',\n",
    "            '-o', '../test_files/test_outs',\n",
    "            '--output-file', 'merged_results.csv'\n",
    "        ]\n",
    "        \n",
    "        return run_cli(test_args)\n",
    "    else:\n",
    "        return sys.exit(run_cli())"
   ]
  },
  {
   "cell_type": "code",
   "execution_count": null,
   "metadata": {},
   "outputs": [
    {
     "name": "stderr",
     "output_type": "stream",
     "text": [
      "2025-03-11 19:48:58,227 - INFO - Starting OligoCodonPipeline\n",
      "2025-03-11 19:48:58,228 - INFO - Loading oligo sequences...\n",
      "2025-03-11 19:48:58,228 - INFO - Loading oligos from provided string\n",
      "2025-03-11 19:48:58,228 - INFO - Loaded 3 oligo sequences\n",
      "2025-03-11 19:48:58,229 - INFO - Processing FASTQ files...\n"
     ]
    },
    {
     "data": {
      "application/vnd.jupyter.widget-view+json": {
       "model_id": "050f410980f24216a8d7afc7df1a9f6f",
       "version_major": 2,
       "version_minor": 0
      },
      "text/plain": [
       "0it [00:00, ?it/s]"
      ]
     },
     "metadata": {},
     "output_type": "display_data"
    },
    {
     "name": "stderr",
     "output_type": "stream",
     "text": [
      "2025-03-11 19:48:58,287 - INFO - Formatting results...\n",
      "2025-03-11 19:48:58,289 - INFO - Saving results to: ../test_files/test_outs/test_cm1_counts.csv\n",
      "2025-03-11 19:48:58,295 - INFO - Pipeline completed in 0.07 seconds\n",
      "2025-03-11 19:48:58,298 - INFO - Starting OligoCodonPipeline\n",
      "2025-03-11 19:48:58,298 - INFO - Loading oligo sequences...\n",
      "2025-03-11 19:48:58,299 - INFO - Loading oligos from file: ../test_files/oligos.txt\n",
      "2025-03-11 19:48:58,300 - INFO - Loaded 3 oligo sequences\n",
      "2025-03-11 19:48:58,301 - INFO - Processing FASTQ files...\n"
     ]
    },
    {
     "name": "stdout",
     "output_type": "stream",
     "text": [
      "\n",
      "Results saved to:\n",
      "  CSV: ../test_files/test_outs/test_cm1_counts.csv\n",
      "\n",
      "Processed 3 oligos in 0.07 seconds\n"
     ]
    },
    {
     "data": {
      "application/vnd.jupyter.widget-view+json": {
       "model_id": "1b2ce3c71fde48b0a335e91e83c12b5f",
       "version_major": 2,
       "version_minor": 0
      },
      "text/plain": [
       "0it [00:00, ?it/s]"
      ]
     },
     "metadata": {},
     "output_type": "display_data"
    },
    {
     "name": "stderr",
     "output_type": "stream",
     "text": [
      "2025-03-11 19:48:58,354 - INFO - Formatting results...\n",
      "2025-03-11 19:48:58,356 - INFO - Saving results to: ../test_files/test_outs/test_cm2_counts.csv\n",
      "2025-03-11 19:48:58,360 - INFO - Pipeline completed in 0.06 seconds\n"
     ]
    },
    {
     "name": "stdout",
     "output_type": "stream",
     "text": [
      "\n",
      "Results saved to:\n",
      "  CSV: ../test_files/test_outs/test_cm2_counts.csv\n",
      "\n",
      "Processed 3 oligos in 0.06 seconds\n",
      "Found 2 CSV files to merge\n",
      "  Loaded ../test_files/test_outs/test_cm2_counts.csv with 4 rows and 3 columns\n",
      "  Loaded ../test_files/test_outs/test_cm1_counts.csv with 4 rows and 3 columns\n",
      "Merged data saved to ../test_files/test_outs/merged_results.csv\n",
      "\n",
      "Merge completed successfully!\n",
      "Merged 4 unique codons across all input files\n",
      "Results contain 3 oligo columns\n",
      "\n",
      "CLI completed with exit code: 0\n"
     ]
    }
   ],
   "source": [
    "#| eval: false\n",
    "#| export\n",
    "if __name__ == \"__main__\":\n",
    "    # For safety, wrap in try/except to catch any SystemExit\n",
    "    try:\n",
    "        exit_code = main()\n",
    "        is_notebook_or_test = 'ipykernel' in sys.modules or 'pytest' in sys.modules or 'NBDEV_TEST' in os.environ\n",
    "        if is_notebook_or_test:\n",
    "            print(f\"\\nCLI completed with exit code: {exit_code}\")\n",
    "    except SystemExit as e:\n",
    "        # Just in case, catch any SystemExit and print instead\n",
    "        is_notebook_or_test = 'ipykernel' in sys.modules or 'pytest' in sys.modules or 'NBDEV_TEST' in os.environ\n",
    "        if is_notebook_or_test:\n",
    "            print(f\"\\nSystemExit caught with code: {e.code}\")\n",
    "        else:\n",
    "            raise"
   ]
  },
  {
   "cell_type": "code",
   "execution_count": null,
   "metadata": {},
   "outputs": [
    {
     "name": "stdout",
     "output_type": "stream",
     "text": [
      "/Users/MTinti/miniconda3/envs/work3/lib/python3.10/site-packages/pandas/core/arrays/masked.py:60: UserWarning: Pandas requires version '1.3.6' or newer of 'bottleneck' (version '1.3.4' currently installed).\n",
      "  from pandas.core import (\n",
      "2025-03-11 20:03:07,141 - INFO - Starting OligoCodonPipeline\n",
      "2025-03-11 20:03:07,141 - INFO - Loading oligo sequences...\n",
      "2025-03-11 20:03:07,141 - INFO - Loading oligos from provided string\n",
      "2025-03-11 20:03:07,141 - INFO - Loaded 2 oligo sequences\n",
      "2025-03-11 20:03:07,141 - INFO - Processing FASTQ files...\n",
      "2000it [00:00, 51676.58it/s]\n",
      "2025-03-11 20:03:07,195 - INFO - Formatting results...\n",
      "2025-03-11 20:03:07,198 - INFO - Saving results to: ../test_files/test_outs/test_cm3_counts.csv\n",
      "2025-03-11 20:03:07,208 - INFO - Pipeline completed in 0.07 seconds\n",
      "\n",
      "Results saved to:\n",
      "  CSV: ../test_files/test_outs/test_cm3_counts.csv\n",
      "\n",
      "Processed 2 oligos in 0.07 seconds\n"
     ]
    }
   ],
   "source": [
    "!oligoseeker -m count --f1 ../test_files/test_1.fq.gz --f2 ../test_files/test_2.fq.gz \\\n",
    "--oligos \"GCGGATTACATTNNNAAATAACATCGT,TGTGGTAAGCGGNNNGAAAGCATTTGT\" --output ../test_files/test_outs --prefix test_cm3"
   ]
  },
  {
   "cell_type": "code",
   "execution_count": null,
   "metadata": {},
   "outputs": [
    {
     "name": "stdout",
     "output_type": "stream",
     "text": [
      "/Users/MTinti/miniconda3/envs/work3/lib/python3.10/site-packages/pandas/core/arrays/masked.py:60: UserWarning: Pandas requires version '1.3.6' or newer of 'bottleneck' (version '1.3.4' currently installed).\n",
      "  from pandas.core import (\n",
      "2025-03-11 20:03:03,960 - INFO - Starting OligoCodonPipeline\n",
      "2025-03-11 20:03:03,961 - INFO - Loading oligo sequences...\n",
      "2025-03-11 20:03:03,961 - INFO - Loading oligos from file: ../test_files/oligos.txt\n",
      "2025-03-11 20:03:03,961 - INFO - Loaded 3 oligo sequences\n",
      "2025-03-11 20:03:03,961 - INFO - Processing FASTQ files...\n",
      "2000it [00:00, 60738.60it/s]\n",
      "2025-03-11 20:03:04,009 - INFO - Formatting results...\n",
      "2025-03-11 20:03:04,011 - INFO - Saving results to: ../test_files/test_outs/test_cm4_counts.csv\n",
      "2025-03-11 20:03:04,017 - INFO - Pipeline completed in 0.06 seconds\n",
      "\n",
      "Results saved to:\n",
      "  CSV: ../test_files/test_outs/test_cm4_counts.csv\n",
      "\n",
      "Processed 3 oligos in 0.06 seconds\n"
     ]
    }
   ],
   "source": [
    "!oligoseeker -m count --f1 ../test_files/test_1.fq.gz --f2 ../test_files/test_2.fq.gz \\\n",
    "--oligos-file '../test_files/oligos.txt' --output ../test_files/test_outs --prefix test_cm4"
   ]
  },
  {
   "cell_type": "code",
   "execution_count": null,
   "metadata": {},
   "outputs": [
    {
     "name": "stdout",
     "output_type": "stream",
     "text": [
      "/Users/MTinti/miniconda3/envs/work3/lib/python3.10/site-packages/pandas/core/arrays/masked.py:60: UserWarning: Pandas requires version '1.3.6' or newer of 'bottleneck' (version '1.3.4' currently installed).\n",
      "  from pandas.core import (\n",
      "Found 4 CSV files to merge\n",
      "  Loaded ../test_files/test_outs/test2_counts.csv with 4 rows and 3 columns\n",
      "  Loaded ../test_files/test_outs/test1_counts.csv with 4 rows and 3 columns\n",
      "  Loaded ../test_files/test_outs/test_cm3_counts.csv with 3 rows and 2 columns\n",
      "  Loaded ../test_files/test_outs/test_cm4_counts.csv with 4 rows and 3 columns\n",
      "Merged data saved to ../test_files/merged/merge_cl.csv\n",
      "\n",
      "Merge completed successfully!\n",
      "Merged 4 unique codons across all input files\n",
      "Results contain 3 oligo columns\n"
     ]
    }
   ],
   "source": [
    "!oligoseeker -m merge --output-file 'merge_cl.csv' --input-dir ../test_files/test_outs --output ../test_files/merged "
   ]
  },
  {
   "cell_type": "code",
   "execution_count": null,
   "metadata": {},
   "outputs": [],
   "source": []
  }
 ],
 "metadata": {
  "kernelspec": {
   "display_name": "python3",
   "language": "python",
   "name": "python3"
  }
 },
 "nbformat": 4,
 "nbformat_minor": 4
}
