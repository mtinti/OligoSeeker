{
 "cells": [
  {
   "cell_type": "code",
   "execution_count": null,
   "metadata": {},
   "outputs": [
    {
     "name": "stdout",
     "output_type": "stream",
     "text": [
      "The autoreload extension is already loaded. To reload it, use:\n",
      "  %reload_ext autoreload\n"
     ]
    }
   ],
   "source": [
    "#| hide\n",
    "%load_ext autoreload\n",
    "%autoreload 2"
   ]
  },
  {
   "cell_type": "markdown",
   "metadata": {},
   "source": [
    "# FASTQ Processing\n",
    "\n",
    "> Functions for reading and processing FASTQ files"
   ]
  },
  {
   "cell_type": "code",
   "execution_count": null,
   "metadata": {},
   "outputs": [],
   "source": [
    "#| default_exp fastq"
   ]
  },
  {
   "cell_type": "code",
   "execution_count": null,
   "metadata": {},
   "outputs": [],
   "source": [
    "#| hide\n",
    "from nbdev.showdoc import *"
   ]
  },
  {
   "cell_type": "code",
   "execution_count": null,
   "metadata": {},
   "outputs": [],
   "source": [
    "#| export\n",
    "import os\n",
    "import gzip\n",
    "from collections import Counter, defaultdict\n",
    "from typing import List, Dict, Tuple, Iterator, Optional\n",
    "from pathlib import Path\n",
    "from Bio.SeqIO.QualityIO import FastqGeneralIterator\n",
    "from tqdm.auto import tqdm\n",
    "from OligoSeeker.core import OligoRegex, OligoCounter"
   ]
  },
  {
   "cell_type": "markdown",
   "metadata": {},
   "source": [
    "## FASTQ File Handling"
   ]
  },
  {
   "cell_type": "code",
   "execution_count": null,
   "metadata": {},
   "outputs": [],
   "source": [
    "#| export\n",
    "class FastqHandler:\n",
    "    \"\"\"Handles FASTQ file operations.\"\"\"\n",
    "    \n",
    "    @staticmethod\n",
    "    def find_fastq_pairs(directory: str) -> Tuple[str, str]:\n",
    "        \"\"\"Find paired FASTQ files in a directory.\n",
    "        \n",
    "        Args:\n",
    "            directory: Directory to search for FASTQ files\n",
    "            \n",
    "        Returns:\n",
    "            Tuple of (read1_path, read2_path)\n",
    "            \n",
    "        Raises:\n",
    "            ValueError: If paired FASTQ files cannot be found\n",
    "        \"\"\"\n",
    "        files = os.listdir(directory)\n",
    "        # Common naming patterns for paired FASTQ files\n",
    "        r1_patterns = ('_1.fq.gz', '_R1.fastq.gz', '_R1_001.fastq.gz')\n",
    "        r2_patterns = ('_2.fq.gz', '_R2.fastq.gz', '_R2_001.fastq.gz')\n",
    "        \n",
    "        # Find files matching the patterns\n",
    "        r1_file = None\n",
    "        r2_file = None\n",
    "        \n",
    "        for f in files:\n",
    "            if any(f.endswith(pattern) for pattern in r1_patterns):\n",
    "                r1_file = f\n",
    "            elif any(f.endswith(pattern) for pattern in r2_patterns):\n",
    "                r2_file = f\n",
    "        \n",
    "        if not (r1_file and r2_file):\n",
    "            raise ValueError(f\"Could not find paired FASTQ files in {directory}\")\n",
    "            \n",
    "        return os.path.join(directory, r1_file), os.path.join(directory, r2_file)\n",
    "    \n",
    "    @staticmethod\n",
    "    def open_fastq(filepath: str) -> gzip.GzipFile:\n",
    "        \"\"\"Open a FASTQ file, handling gzipped and non-gzipped files.\n",
    "        \n",
    "        Args:\n",
    "            filepath: Path to the FASTQ file\n",
    "            \n",
    "        Returns:\n",
    "            An opened file handle\n",
    "        \"\"\"\n",
    "        if filepath.endswith(('.gz', '.gzip')):\n",
    "            return gzip.open(filepath, \"rt\")\n",
    "        else:\n",
    "            return open(filepath, \"rt\")\n",
    "    \n",
    "    @staticmethod\n",
    "    def fastq_pair_iterator(r1_path: str, r2_path: str) -> Iterator[Tuple[Tuple, Tuple]]:\n",
    "        \"\"\"Create an iterator over paired FASTQ reads.\n",
    "        \n",
    "        Args:\n",
    "            r1_path: Path to the first read file\n",
    "            r2_path: Path to the second read file\n",
    "            \n",
    "        Returns:\n",
    "            Iterator yielding pairs of (read1, read2) tuples where each read is \n",
    "            a tuple of (title, sequence, quality)\n",
    "        \"\"\"\n",
    "        with FastqHandler.open_fastq(r1_path) as f1, FastqHandler.open_fastq(r2_path) as f2:\n",
    "            for read1, read2 in zip(FastqGeneralIterator(f1), FastqGeneralIterator(f2)):\n",
    "                yield read1, read2"
   ]
  },
  {
   "cell_type": "markdown",
   "metadata": {},
   "source": [
    "## Oligo Codon Processor"
   ]
  },
  {
   "cell_type": "code",
   "execution_count": null,
   "metadata": {},
   "outputs": [],
   "source": [
    "#| export\n",
    "class OligoCodonProcessor:\n",
    "    \"\"\"Processes FASTQ files to count oligo codons.\"\"\"\n",
    "    \n",
    "    def __init__(self, oligos: List[str]):\n",
    "        \"\"\"Initialize the processor with a list of oligos.\n",
    "        \n",
    "        Args:\n",
    "            oligos: List of oligo sequences to search for\n",
    "        \"\"\"\n",
    "        self.oligos = oligos\n",
    "        self.compiled_oligos = [OligoRegex(oligo) for oligo in oligos]\n",
    "    \n",
    "    def process_fastq_pair(self, r1_path: str, r2_path: str, \n",
    "                           progress_callback: Optional[callable] = None) -> OligoCounter:\n",
    "        \"\"\"Process a pair of FASTQ files to count oligo codons.\n",
    "        \n",
    "        Args:\n",
    "            r1_path: Path to the first read file\n",
    "            r2_path: Path to the second read file\n",
    "            progress_callback: Optional callback function for progress reporting\n",
    "            \n",
    "        Returns:\n",
    "            Dictionary mapping oligo indices to codon counters\n",
    "        \"\"\"\n",
    "        results = defaultdict(Counter)\n",
    "        \n",
    "        # Count the total number of reads for progress reporting\n",
    "        #total_reads = 0\n",
    "        #if progress_callback:\n",
    "        #    # First pass to count reads\n",
    "        #    with FastqHandler.open_fastq(r1_path) as f:\n",
    "        #        for _ in FastqGeneralIterator(f):\n",
    "        #            total_reads += 1\n",
    "        \n",
    "        # Process read pairs\n",
    "        processed_reads = 0\n",
    "        for read_1, read_2 in tqdm(FastqHandler.fastq_pair_iterator(r1_path, r2_path), ):\n",
    "            for i, compiled in enumerate(self.compiled_oligos):\n",
    "                codon = compiled.find_codon(read_1[1], read_2[1])\n",
    "                results[i][codon] += 1\n",
    "            \n",
    "        #    processed_reads += 1\n",
    "        #    if progress_callback and processed_reads % 10000 == 0:\n",
    "        #        progress_callback(processed_reads, total_reads)\n",
    "        \n",
    "        # Final progress update\n",
    "        #if progress_callback:\n",
    "        #    progress_callback(processed_reads, total_reads)\n",
    "        #print(results)    \n",
    "        return results"
   ]
  },
  {
   "cell_type": "code",
   "execution_count": null,
   "metadata": {},
   "outputs": [],
   "source": [
    "#| hide\n",
    "import nbdev; nbdev.nbdev_export()"
   ]
  }
 ],
 "metadata": {
  "kernelspec": {
   "display_name": "python3",
   "language": "python",
   "name": "python3"
  }
 },
 "nbformat": 4,
 "nbformat_minor": 4
}
