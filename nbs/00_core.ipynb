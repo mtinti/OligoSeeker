{
 "cells": [
  {
   "cell_type": "code",
   "execution_count": null,
   "metadata": {},
   "outputs": [
    {
     "name": "stdout",
     "output_type": "stream",
     "text": [
      "The autoreload extension is already loaded. To reload it, use:\n",
      "  %reload_ext autoreload\n"
     ]
    }
   ],
   "source": [
    "%load_ext autoreload\n",
    "%autoreload 2"
   ]
  },
  {
   "cell_type": "markdown",
   "metadata": {},
   "source": [
    "# Core\n",
    "\n",
    "> Core utilities and classes for OligoSeeker"
   ]
  },
  {
   "cell_type": "code",
   "execution_count": null,
   "metadata": {},
   "outputs": [],
   "source": [
    "#| default_exp core"
   ]
  },
  {
   "cell_type": "code",
   "execution_count": null,
   "metadata": {},
   "outputs": [],
   "source": [
    "#| hide\n",
    "from nbdev.showdoc import *"
   ]
  },
  {
   "cell_type": "code",
   "execution_count": null,
   "metadata": {},
   "outputs": [],
   "source": [
    "#| export\n",
    "from typing import Dict, List, Tuple, Set\n",
    "from collections import Counter\n",
    "import re\n",
    "from Bio.Seq import Seq"
   ]
  },
  {
   "cell_type": "markdown",
   "metadata": {},
   "source": [
    "## Type Definitions"
   ]
  },
  {
   "cell_type": "code",
   "execution_count": null,
   "metadata": {},
   "outputs": [],
   "source": [
    "#| export\n",
    "# Type aliases\n",
    "OligoCounter = Dict[int, Counter]\n",
    "FastqPair = Tuple[str, str]"
   ]
  },
  {
   "cell_type": "markdown",
   "metadata": {},
   "source": [
    "## DNA Utilities"
   ]
  },
  {
   "cell_type": "code",
   "execution_count": null,
   "metadata": {},
   "outputs": [],
   "source": [
    "#| export\n",
    "# Constants for complement mapping\n",
    "COMPLEMENT = {\n",
    "    'A': 'T', 'C': 'G', 'G': 'C', 'T': 'A',\n",
    "    '[': ']', ']': '[', '(': ')', ')': '(',\n",
    "    '.': '.', 'N': 'N'\n",
    "}"
   ]
  },
  {
   "cell_type": "code",
   "execution_count": null,
   "metadata": {},
   "outputs": [],
   "source": [
    "#| export\n",
    "class DNAUtils:\n",
    "    \"\"\"Utility class for DNA sequence operations.\"\"\"\n",
    "    \n",
    "    @staticmethod\n",
    "    def reverse_complement(sequence: str) -> str:\n",
    "        \"\"\"Generate reverse complement of a DNA sequence.\n",
    "        \n",
    "        Args:\n",
    "            sequence: DNA sequence string\n",
    "            \n",
    "        Returns:\n",
    "            Reverse complement of the input sequence\n",
    "        \"\"\"\n",
    "        return ''.join(COMPLEMENT.get(char, char) for char in reversed(sequence))\n",
    "    \n",
    "    @staticmethod\n",
    "    def validate_oligos(oligos: List[str]) -> Tuple[bool, Set[str]]:\n",
    "        \"\"\"Validate a list of oligo sequences.\n",
    "        \n",
    "        Args:\n",
    "            oligos: List of oligo sequences to validate\n",
    "            \n",
    "        Returns:\n",
    "            Tuple of (is_valid, invalid_characters)\n",
    "        \"\"\"\n",
    "        invalid_chars = set()\n",
    "        for oligo in oligos:\n",
    "            for b in oligo:\n",
    "                if b not in COMPLEMENT:\n",
    "                    invalid_chars.add(b)\n",
    "        return len(invalid_chars) == 0, invalid_chars"
   ]
  },
  {
   "cell_type": "markdown",
   "metadata": {},
   "source": [
    "## Oligo Regular Expression Matching"
   ]
  },
  {
   "cell_type": "code",
   "execution_count": null,
   "metadata": {},
   "outputs": [],
   "source": [
    "#| export\n",
    "class OligoRegex:\n",
    "    \"\"\"Compiles and manages regex patterns for oligo searching.\"\"\"\n",
    "    \n",
    "    def __init__(self, oligo: str):\n",
    "        \"\"\"Initialize regex patterns for forward and reverse oligo sequences.\n",
    "        \n",
    "        Args:\n",
    "            oligo: Oligo sequence with potential NNN codon sites\n",
    "        \"\"\"\n",
    "        self.oligo = oligo\n",
    "        self.forward = re.compile(oligo.replace('NNN', '(...)'))  # Captures the codon in group 1\n",
    "        rev_oligo = DNAUtils.reverse_complement(oligo)\n",
    "        self.reverse = re.compile(rev_oligo.replace('NNN', '(...)'))  # Captures the codon in group 1\n",
    "    \n",
    "    \n",
    "    def find_codon(self, read_1: str, read_2: str) -> str:\n",
    "        \"\"\"Find codon in paired reads.\n",
    "        \n",
    "        Args:\n",
    "            read_1: Sequence from the first read\n",
    "            read_2: Sequence from the second read\n",
    "            \n",
    "        Returns:\n",
    "            The codon found or 'none' if not found\n",
    "        \"\"\"\n",
    "        # Combine reads with a unique separator for pattern matching\n",
    "        combined_read = f\"{read_1}@{read_2}\"\n",
    "        \n",
    "        # Try matching in forward direction\n",
    "        match = self.forward.search(combined_read)\n",
    "        if match:\n",
    "            return match.group(1)\n",
    "        \n",
    "        # Try matching in reverse direction\n",
    "        match = self.reverse.search(combined_read)\n",
    "        if match:\n",
    "            return str(Seq(match.group(1)).reverse_complement())\n",
    "        \n",
    "        # No match found\n",
    "        return 'none'"
   ]
  },
  {
   "cell_type": "code",
   "execution_count": null,
   "metadata": {},
   "outputs": [
    {
     "data": {
      "text/plain": [
       "'NNN'"
      ]
     },
     "execution_count": null,
     "metadata": {},
     "output_type": "execute_result"
    }
   ],
   "source": [
    "ofc = OligoRegex('AAAAAANNNAAAAAA')\n",
    "ofc.find_codon(read_1='AAAAAANNNAAAAAA',read_2='AAAAAANNNAAAAAA')"
   ]
  },
  {
   "cell_type": "markdown",
   "metadata": {},
   "source": [
    "## Oligo Loading and Validation"
   ]
  },
  {
   "cell_type": "code",
   "execution_count": null,
   "metadata": {},
   "outputs": [],
   "source": [
    "#| export\n",
    "class OligoLoader:\n",
    "    \"\"\"Loads and validates oligo sequences from different sources.\"\"\"\n",
    "    \n",
    "    @staticmethod\n",
    "    def from_file(filepath: str) -> List[str]:\n",
    "        \"\"\"Load oligos from a file.\n",
    "        \n",
    "        Args:\n",
    "            filepath: Path to the file containing oligo sequences (one per line)\n",
    "            \n",
    "        Returns:\n",
    "            List of oligo sequences\n",
    "            \n",
    "        Raises:\n",
    "            ValueError: If the file contains duplicate oligos or invalid characters\n",
    "        \"\"\"\n",
    "        with open(filepath) as f:\n",
    "            oligos = [line.strip() for line in f if line.strip()]\n",
    "        return OligoLoader.validate_oligos(oligos)\n",
    "    \n",
    "    @staticmethod\n",
    "    def from_string(oligo_string: str, delimiter: str = ',') -> List[str]:\n",
    "        \"\"\"Load oligos from a delimited string.\n",
    "        \n",
    "        Args:\n",
    "            oligo_string: String containing oligo sequences\n",
    "            delimiter: Delimiter character (default: comma)\n",
    "            \n",
    "        Returns:\n",
    "            List of oligo sequences\n",
    "            \n",
    "        Raises:\n",
    "            ValueError: If the string contains duplicate oligos or invalid characters\n",
    "        \"\"\"\n",
    "        oligos = [o.strip() for o in oligo_string.split(delimiter) if o.strip()]\n",
    "        return OligoLoader.validate_oligos(oligos)\n",
    "    \n",
    "    @staticmethod\n",
    "    def validate_oligos(oligos: List[str]) -> List[str]:\n",
    "        \"\"\"Validate a list of oligo sequences.\n",
    "        \n",
    "        Args:\n",
    "            oligos: List of oligo sequences to validate\n",
    "            \n",
    "        Returns:\n",
    "            The validated list of oligos\n",
    "            \n",
    "        Raises:\n",
    "            ValueError: If duplicate oligos found or invalid characters detected\n",
    "        \"\"\"\n",
    "        # Check for duplicates\n",
    "        if len(oligos) != len(set(oligos)):\n",
    "            raise ValueError(\"Duplicate oligos found\")\n",
    "        \n",
    "        # Check for valid characters\n",
    "        is_valid, invalid_chars = DNAUtils.validate_oligos(oligos)\n",
    "        if not is_valid:\n",
    "            invalid_chars_str = ','.join(invalid_chars)\n",
    "            raise ValueError(f\"Invalid characters found in oligos: {invalid_chars_str}\")\n",
    "        \n",
    "        return oligos"
   ]
  },
  {
   "cell_type": "code",
   "execution_count": null,
   "metadata": {},
   "outputs": [],
   "source": [
    "#| hide\n",
    "import nbdev; nbdev.nbdev_export()"
   ]
  }
 ],
 "metadata": {
  "kernelspec": {
   "display_name": "python3",
   "language": "python",
   "name": "python3"
  }
 },
 "nbformat": 4,
 "nbformat_minor": 4
}
