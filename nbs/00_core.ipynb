{
 "cells": [
  {
   "cell_type": "code",
   "execution_count": null,
   "metadata": {},
   "outputs": [
    {
     "name": "stdout",
     "output_type": "stream",
     "text": [
      "The autoreload extension is already loaded. To reload it, use:\n",
      "  %reload_ext autoreload\n"
     ]
    }
   ],
   "source": [
    "#| hide\n",
    "%load_ext autoreload\n",
    "%autoreload 2"
   ]
  },
  {
   "cell_type": "markdown",
   "metadata": {},
   "source": [
    "# Core\n",
    "\n",
    "> Core utilities and classes for OligoSeeker"
   ]
  },
  {
   "cell_type": "code",
   "execution_count": null,
   "metadata": {},
   "outputs": [],
   "source": [
    "#| default_exp core"
   ]
  },
  {
   "cell_type": "code",
   "execution_count": null,
   "metadata": {},
   "outputs": [],
   "source": [
    "#| hide\n",
    "from nbdev.showdoc import *"
   ]
  },
  {
   "cell_type": "code",
   "execution_count": null,
   "metadata": {},
   "outputs": [],
   "source": [
    "#| export\n",
    "from typing import Dict, List, Tuple, Set\n",
    "from collections import Counter\n",
    "import re\n",
    "from Bio.Seq import Seq"
   ]
  },
  {
   "cell_type": "markdown",
   "metadata": {},
   "source": [
    "## Type Definitions"
   ]
  },
  {
   "cell_type": "code",
   "execution_count": null,
   "metadata": {},
   "outputs": [],
   "source": [
    "#| export\n",
    "# Type aliases\n",
    "OligoCounter = Dict[int, Counter]\n",
    "FastqPair = Tuple[str, str]"
   ]
  },
  {
   "cell_type": "markdown",
   "metadata": {},
   "source": [
    "## DNA Utilities"
   ]
  },
  {
   "cell_type": "code",
   "execution_count": null,
   "metadata": {},
   "outputs": [],
   "source": [
    "#| export\n",
    "# Constants for complement mapping\n",
    "COMPLEMENT = {\n",
    "    'A': 'T', 'C': 'G', 'G': 'C', 'T': 'A',\n",
    "    '[': ']', ']': '[', '(': ')', ')': '(',\n",
    "    '.': '.', 'N': 'N'\n",
    "}"
   ]
  },
  {
   "cell_type": "code",
   "execution_count": null,
   "metadata": {},
   "outputs": [],
   "source": [
    "#| export\n",
    "class DNAUtils:\n",
    "    \"\"\"Utility class for DNA sequence operations.\"\"\"\n",
    "    \n",
    "    @staticmethod\n",
    "    def reverse_complement(sequence: str) -> str:\n",
    "        \"\"\"Generate reverse complement of a DNA sequence.\n",
    "        \n",
    "        Args:\n",
    "            sequence: DNA sequence string\n",
    "            \n",
    "        Returns:\n",
    "            Reverse complement of the input sequence\n",
    "        \"\"\"\n",
    "        return ''.join(COMPLEMENT.get(char, char) for char in reversed(sequence))\n",
    "    \n",
    "    @staticmethod\n",
    "    def validate_oligos(oligos: List[str]) -> Tuple[bool, Set[str]]:\n",
    "        \"\"\"Validate a list of oligo sequences.\n",
    "        \n",
    "        Args:\n",
    "            oligos: List of oligo sequences to validate\n",
    "            \n",
    "        Returns:\n",
    "            Tuple of (is_valid, invalid_characters)\n",
    "        \"\"\"\n",
    "        invalid_chars = set()\n",
    "        for oligo in oligos:\n",
    "            for b in oligo:\n",
    "                if b not in COMPLEMENT:\n",
    "                    invalid_chars.add(b)\n",
    "        return len(invalid_chars) == 0, invalid_chars"
   ]
  },
  {
   "cell_type": "markdown",
   "metadata": {},
   "source": [
    "## Oligo Regular Expression Matching"
   ]
  },
  {
   "cell_type": "code",
   "execution_count": null,
   "metadata": {},
   "outputs": [],
   "source": [
    "#| export\n",
    "class OligoRegex:\n",
    "    \"\"\"Compiles and manages regex patterns for oligo searching.\"\"\"\n",
    "    \n",
    "    def __init__(self, oligo: str):\n",
    "        \"\"\"Initialize regex patterns for forward and reverse oligo sequences.\n",
    "        \n",
    "        Args:\n",
    "            oligo: Oligo sequence with potential NNN codon sites\n",
    "        \"\"\"\n",
    "        self.oligo = oligo\n",
    "        self.forward = re.compile(oligo.replace('NNN', '(...)'))  # Captures the codon in group 1\n",
    "        rev_oligo = DNAUtils.reverse_complement(oligo)\n",
    "        self.reverse = re.compile(rev_oligo.replace('NNN', '(...)'))  # Captures the codon in group 1\n",
    "    \n",
    "    \n",
    "    def find_codon(self, read_1: str, read_2: str) -> str:\n",
    "        \"\"\"Find codon in paired reads.\n",
    "        \n",
    "        Args:\n",
    "            read_1: Sequence from the first read\n",
    "            read_2: Sequence from the second read\n",
    "            \n",
    "        Returns:\n",
    "            The codon found or 'none' if not found\n",
    "        \"\"\"\n",
    "        # Combine reads with a unique separator for pattern matching\n",
    "        combined_read = f\"{read_1}@{read_2}\"\n",
    "        \n",
    "        # Try matching in forward direction\n",
    "        match = self.forward.search(combined_read)\n",
    "        if match:\n",
    "            return match.group(1)\n",
    "        \n",
    "        # Try matching in reverse direction\n",
    "        match = self.reverse.search(combined_read)\n",
    "        if match:\n",
    "            return str(Seq(match.group(1)).reverse_complement())\n",
    "        \n",
    "        # No match found\n",
    "        return 'none'"
   ]
  },
  {
   "cell_type": "code",
   "execution_count": null,
   "metadata": {},
   "outputs": [
    {
     "name": "stdout",
     "output_type": "stream",
     "text": [
      "Found codon: ATG\n",
      "Amino acid: M\n"
     ]
    }
   ],
   "source": [
    "# Example oligo design for targeting position 42 in a gene\n",
    "oligo_template = \"GAACGTTATCCGCGTNNNACGTTCGAAGCTGGT\"\n",
    "#                 ^^^^^^^^^^^^^^^^ ^^^ ^^^^^^^^^^^^^^^^\n",
    "#                 5' targeting     |   3' targeting\n",
    "#                                 codon\n",
    "\n",
    "# Create the regex pattern for finding this oligo in sequencing data\n",
    "oligo_regex = OligoRegex(oligo_template)\n",
    "\n",
    "# Example sequencing read pairs\n",
    "read1 = \"ATCGAACGTTATCCGCGTATGACGTTCGAAGCTGGTCG\"\n",
    "#                          ^^^\n",
    "#                          codon = ATG (Met)\n",
    "read2 = \"CGATCGGTTCGAACGTCTTCACAGCATTG\"\n",
    "\n",
    "# Find the codon\n",
    "found_codon = oligo_regex.find_codon(read1, read2)\n",
    "print(f\"Found codon: {found_codon}\")  # Should print \"ATG\"\n",
    "\n",
    "# Translate to amino acid\n",
    "amino_acid = str(Seq(found_codon).translate())\n",
    "print(f\"Amino acid: {amino_acid}\")  "
   ]
  },
  {
   "cell_type": "code",
   "execution_count": null,
   "metadata": {},
   "outputs": [
    {
     "name": "stdout",
     "output_type": "stream",
     "text": [
      "Test 1: Forward match - Oligo: GAACNNNCAT, Codon found: ATG\n",
      "✓ Correctly found codon ATG in forward direction\n",
      "Test 2: Match in second read - Oligo: GAACNNNCAT, Codon found: CGG\n",
      "✓ Correctly found codon CGG in second read\n",
      "Test 3: Reverse complement match - Oligo: GAACNNNCAT, Codon found: GAC\n",
      "✓ Correctly found reverse complement codon GAC\n",
      "Test 5: No match - Oligo: GAACNNNCAT, Result: none\n",
      "✓ Correctly returned 'none' for no match\n"
     ]
    }
   ],
   "source": [
    "def test_oligo_regex():\n",
    "    \"\"\"Test the OligoRegex class for finding codons in reads.\"\"\"\n",
    "    \n",
    "    # Test 1: Basic functionality with forward match\n",
    "    oligo = \"GAACNNNCAT\"\n",
    "    regex = OligoRegex(oligo)\n",
    "    read1 = \"ACGTGAACATGCATTGC\"  # Contains GAACATGCAT with ATG as the codon\n",
    "    read2 = \"GCAACTGTAGCGTACGT\"  # No match\n",
    "    \n",
    "    codon = regex.find_codon(read1, read2)\n",
    "    print(f\"Test 1: Forward match - Oligo: {oligo}, Codon found: {codon}\")\n",
    "    expected = \"ATG\"\n",
    "    if codon == expected:\n",
    "        print(f\"✓ Correctly found codon {expected} in forward direction\")\n",
    "    else:\n",
    "        print(f\"✗ Expected {expected}, got {codon}\")\n",
    "    \n",
    "    # Test 2: Match in second read\n",
    "    oligo = \"GAACNNNCAT\"\n",
    "    regex = OligoRegex(oligo)\n",
    "    read1 = \"ACGTCGATCGATCG\"  # No match\n",
    "    read2 = \"ACGTGAACCGGCATCG\"  # Contains GAACCGGCAT with CGG as the codon\n",
    "    \n",
    "    codon = regex.find_codon(read1, read2)\n",
    "    print(f\"Test 2: Match in second read - Oligo: {oligo}, Codon found: {codon}\")\n",
    "    expected = \"CGG\"\n",
    "    if codon == expected:\n",
    "        print(f\"✓ Correctly found codon {expected} in second read\")\n",
    "    else:\n",
    "        print(f\"✗ Expected {expected}, got {codon}\")\n",
    "    \n",
    "    # Test 3: Reverse complement match\n",
    "    oligo = \"GAACNNNCAT\"\n",
    "    regex = OligoRegex(oligo)\n",
    "    rev_comp = DNAUtils.reverse_complement(oligo.replace(\"NNN\", \"GTC\"))  # ATGGTCGTTC\n",
    "    read1 = \"ACGTATGGTCGTTCGCA\"  # Contains reverse complement with GTC as codon\n",
    "    read2 = \"GCAACTGTAGCGTACGT\"  # No match\n",
    "    \n",
    "    codon = regex.find_codon(read1, read2)\n",
    "    print(f\"Test 3: Reverse complement match - Oligo: {oligo}, Codon found: {codon}\")\n",
    "    expected = \"GAC\"  # Reverse complement of GTC\n",
    "    if codon == expected:\n",
    "        print(f\"✓ Correctly found reverse complement codon {expected}\")\n",
    "    else:\n",
    "        print(f\"✗ Expected {expected}, got {codon}\")\n",
    "        \n",
    "    # Test 5: No match\n",
    "    oligo = \"GAACNNNCAT\"\n",
    "    regex = OligoRegex(oligo)\n",
    "    read1 = \"ACGTCGATCGATCG\"  # No match\n",
    "    read2 = \"GCAACTGTAGCGTACGT\"  # No match\n",
    "    \n",
    "    codon = regex.find_codon(read1, read2)\n",
    "    print(f\"Test 5: No match - Oligo: {oligo}, Result: {codon}\")\n",
    "    if codon == \"none\":\n",
    "        print(\"✓ Correctly returned 'none' for no match\")\n",
    "    else:\n",
    "        print(f\"✗ Expected 'none', got {codon}\")\n",
    "\n",
    "# Run the tests\n",
    "test_oligo_regex()"
   ]
  },
  {
   "cell_type": "code",
   "execution_count": null,
   "metadata": {},
   "outputs": [],
   "source": []
  },
  {
   "cell_type": "markdown",
   "metadata": {},
   "source": [
    "## Oligo Loading and Validation"
   ]
  },
  {
   "cell_type": "code",
   "execution_count": null,
   "metadata": {},
   "outputs": [],
   "source": [
    "#| export\n",
    "class OligoLoader:\n",
    "    \"\"\"Loads and validates oligo sequences from different sources.\"\"\"\n",
    "    \n",
    "    @staticmethod\n",
    "    def from_file(filepath: str) -> List[str]:\n",
    "        \"\"\"Load oligos from a file.\n",
    "        \n",
    "        Args:\n",
    "            filepath: Path to the file containing oligo sequences (one per line)\n",
    "            \n",
    "        Returns:\n",
    "            List of oligo sequences\n",
    "            \n",
    "        Raises:\n",
    "            ValueError: If the file contains duplicate oligos or invalid characters\n",
    "        \"\"\"\n",
    "        with open(filepath) as f:\n",
    "            oligos = [line.strip() for line in f if line.strip()]\n",
    "        return OligoLoader.validate_oligos(oligos)\n",
    "    \n",
    "    @staticmethod\n",
    "    def from_string(oligo_string: str, delimiter: str = ',') -> List[str]:\n",
    "        \"\"\"Load oligos from a delimited string.\n",
    "        \n",
    "        Args:\n",
    "            oligo_string: String containing oligo sequences\n",
    "            delimiter: Delimiter character (default: comma)\n",
    "            \n",
    "        Returns:\n",
    "            List of oligo sequences\n",
    "            \n",
    "        Raises:\n",
    "            ValueError: If the string contains duplicate oligos or invalid characters\n",
    "        \"\"\"\n",
    "        oligos = [o.strip() for o in oligo_string.split(delimiter) if o.strip()]\n",
    "        return OligoLoader.validate_oligos(oligos)\n",
    "    \n",
    "    @staticmethod\n",
    "    def validate_oligos(oligos: List[str]) -> List[str]:\n",
    "        \"\"\"Validate a list of oligo sequences.\n",
    "\n",
    "        Args:\n",
    "            oligos: List of oligo sequences to validate\n",
    "\n",
    "        Returns:\n",
    "            The validated list of oligos\n",
    "\n",
    "        Raises:\n",
    "            ValueError: If duplicate oligos found, invalid characters detected, or NNN pattern issues\n",
    "        \"\"\"\n",
    "        # Check for duplicates\n",
    "        if len(oligos) != len(set(oligos)):\n",
    "            raise ValueError(\"Duplicate oligos found\")\n",
    "\n",
    "        # Check for valid characters\n",
    "        is_valid, invalid_chars = DNAUtils.validate_oligos(oligos)\n",
    "        if not is_valid:\n",
    "            invalid_chars_str = ','.join(invalid_chars)\n",
    "            raise ValueError(f\"Invalid characters found in oligos: {invalid_chars_str}\")\n",
    "\n",
    "        # Check for NNN pattern - each oligo must contain exactly one NNN codon\n",
    "        invalid_oligos = []\n",
    "        for oligo in oligos:\n",
    "            nnn_count = oligo.count('NNN')\n",
    "            if nnn_count != 1:\n",
    "                raise ValueError(f\"{oligo} (contains {nnn_count} NNN patterns, must have exactly 1)\")\n",
    "                \n",
    "\n",
    "        if invalid_oligos:\n",
    "            error_msg = \"Invalid NNN pattern in oligos:\\n\" + \"\\n\".join(invalid_oligos)\n",
    "            raise ValueError(error_msg)\n",
    "\n",
    "        return oligos"
   ]
  },
  {
   "cell_type": "code",
   "execution_count": null,
   "metadata": {},
   "outputs": [
    {
     "name": "stdout",
     "output_type": "stream",
     "text": [
      "✓ Valid oligo with one NNN passed validation\n",
      "✓ Correctly detected missing NNN pattern: GCGGATTACATTGCTAAATAACATCGT (contains 0 NNN patterns, must have exactly 1)\n",
      "✓ Correctly detected multiple NNN patterns: GCGGATTACATTNNNAAATAACNNNGT (contains 2 NNN patterns, must have exactly 1)\n",
      "✓ Correctly detected incorrect NN format: TGACNNTAG (contains 0 NNN patterns, must have exactly 1)\n",
      "✓ Correctly detected invalid characters: Invalid characters found in oligos: X,Z,Y\n",
      "\n",
      "Single oligo validation tests completed\n"
     ]
    }
   ],
   "source": [
    "def test_oligo_loader_single_oligo_validation():\n",
    "    \"\"\"Test OligoLoader validation with a single oligo per test.\"\"\"\n",
    "   \n",
    "    # Test 1: Valid oligo with one NNN pattern\n",
    "    try:\n",
    "        OligoLoader.validate_oligos([\"GCGGATTACATTNNNAAATAACATCGT\"])\n",
    "        print(\"✓ Valid oligo with one NNN passed validation\")\n",
    "    except ValueError as e:\n",
    "        print(f\"✗ Valid oligo failed validation: {str(e)}\")\n",
    "    \n",
    "    # Test 2: Oligo with no NNN pattern\n",
    "    try:\n",
    "        OligoLoader.validate_oligos([\"GCGGATTACATTGCTAAATAACATCGT\"])\n",
    "        print(\"✗ Failed to detect missing NNN pattern\")\n",
    "    except ValueError as e:\n",
    "        print(f\"✓ Correctly detected missing NNN pattern: {str(e)}\")\n",
    "    \n",
    "    # Test 3: Oligo with multiple NNN patterns\n",
    "    try:\n",
    "        OligoLoader.validate_oligos([\"GCGGATTACATTNNNAAATAACNNNGT\"])\n",
    "        print(\"✗ Failed to detect multiple NNN patterns\")\n",
    "    except ValueError as e:\n",
    "        print(f\"✓ Correctly detected multiple NNN patterns: {str(e)}\")\n",
    "    \n",
    "    # Test 4: Oligo with incorrect NNN format (NN instead of NNN)\n",
    "    try:\n",
    "        OligoLoader.validate_oligos([\"TGACNNTAG\"])\n",
    "        print(\"✗ Failed to detect incorrect NN format\")\n",
    "    except ValueError as e:\n",
    "        print(f\"✓ Correctly detected incorrect NN format: {str(e)}\")\n",
    "    \n",
    "    # Test 5: Oligo with invalid characters\n",
    "    try:\n",
    "        OligoLoader.validate_oligos([\"TGACNNNXYZ\"])\n",
    "        print(\"✗ Failed to detect invalid characters\")\n",
    "    except ValueError as e:\n",
    "        print(f\"✓ Correctly detected invalid characters: {str(e)}\")\n",
    "    \n",
    "    print(\"\\nSingle oligo validation tests completed\")\n",
    "\n",
    "# Run the tests\n",
    "test_oligo_loader_single_oligo_validation()"
   ]
  },
  {
   "cell_type": "code",
   "execution_count": null,
   "metadata": {},
   "outputs": [],
   "source": [
    "#OligoLoader.validate_oligos([\"GCGGATTACATTGCTAAATAACATCGT\"])"
   ]
  },
  {
   "cell_type": "code",
   "execution_count": null,
   "metadata": {},
   "outputs": [],
   "source": []
  },
  {
   "cell_type": "code",
   "execution_count": null,
   "metadata": {},
   "outputs": [],
   "source": [
    "#| hide\n",
    "import nbdev; nbdev.nbdev_export()"
   ]
  }
 ],
 "metadata": {
  "kernelspec": {
   "display_name": "python3",
   "language": "python",
   "name": "python3"
  }
 },
 "nbformat": 4,
 "nbformat_minor": 4
}
