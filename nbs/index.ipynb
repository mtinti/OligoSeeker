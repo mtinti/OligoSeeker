{
 "cells": [
  {
   "cell_type": "code",
   "execution_count": null,
   "metadata": {},
   "outputs": [
    {
     "name": "stdout",
     "output_type": "stream",
     "text": [
      "The autoreload extension is already loaded. To reload it, use:\n",
      "  %reload_ext autoreload\n"
     ]
    }
   ],
   "source": [
    "#| hide\n",
    "%load_ext autoreload\n",
    "%autoreload 2"
   ]
  },
  {
   "cell_type": "markdown",
   "metadata": {},
   "source": [
    "# OligoSeeker\n",
    "\n",
    "> A Python library for processing FASTQ files to count oligo codons"
   ]
  },
  {
   "cell_type": "markdown",
   "metadata": {},
   "source": [
    "## Installation"
   ]
  },
  {
   "cell_type": "markdown",
   "metadata": {},
   "source": [
    "You can install the package via pip:\n",
    "\n",
    "```bash\n",
    "pip install OligoSeeker\n",
    "```\n",
    "\n",
    "Or directly from the repository:\n",
    "\n",
    "```bash\n",
    "pip install git+https://github.com/username/OligoSeeker.git\n",
    "```"
   ]
  },
  {
   "cell_type": "markdown",
   "metadata": {},
   "source": [
    "## Overview\n",
    "\n",
    "OligoSeeker is a Python library designed to process paired FASTQ files and count occurrences of specific oligo codons. It provides a simple yet powerful interface for bioinformatics researchers working with oligonucleotide analysis."
   ]
  },
  {
   "cell_type": "markdown",
   "metadata": {},
   "source": [
    "## Features\n",
    "\n",
    "- Process paired FASTQ files (gzipped or uncompressed)\n",
    "- Search for custom oligo sequences with codon sites (NNN)\n",
    "- Support for both forward and reverse complement matching\n",
    "- Comprehensive results in CSV and Excel formats\n",
    "- Progress reporting for long-running operations\n",
    "- User-friendly command-line interface\n",
    "- Modular design for integration with other tools"
   ]
  },
  {
   "cell_type": "markdown",
   "metadata": {},
   "source": [
    "## How It Works\n",
    "\n",
    "OligoSeeker searches for specific oligonucleotide patterns in paired FASTQ reads. When it finds a match, it extracts the codon sequence (represented by NNN in the oligo pattern) and tallies its occurrence. The library handles both forward and reverse complement matching, ensuring comprehensive detection.\n",
    "\n",
    "The basic workflow is:\n",
    "1. Load and validate oligo sequences\n",
    "2. Process paired FASTQ files\n",
    "3. Count codon occurrences for each oligo\n",
    "4. Output results in csv format"
   ]
  },
  {
   "cell_type": "markdown",
   "metadata": {},
   "source": [
    "## Quick Start\n",
    "\n",
    "### Command-Line Usage\n",
    "\n",
    "```bash\n",
    "# Basic usage with oligos file\n",
    "oligoseeker --f1 test_files/test_1.fq.gz --f2 test_files/test_2.fq.gz \\\n",
    "--oligos \"GCGGATTACATTNNNAAATAACATCGT,TGTGGTAAGCGGNNNGAAAGCATTTGT\" --output test_outs --prefix test_cm2\n",
    "```"
   ]
  },
  {
   "cell_type": "markdown",
   "metadata": {},
   "source": [
    "### Python API Usage\n",
    "\n",
    "Here's a simple example of using the Python API:"
   ]
  },
  {
   "cell_type": "code",
   "execution_count": null,
   "metadata": {},
   "outputs": [
    {
     "name": "stderr",
     "output_type": "stream",
     "text": [
      "2025-03-11 17:03:59,076 - INFO - Starting OligoCodonPipeline\n",
      "2025-03-11 17:03:59,077 - INFO - Loading oligo sequences...\n",
      "2025-03-11 17:03:59,078 - INFO - Using provided oligo list\n",
      "2025-03-11 17:03:59,078 - INFO - Loaded 3 oligo sequences\n",
      "2025-03-11 17:03:59,079 - INFO - Processing FASTQ files...\n"
     ]
    },
    {
     "data": {
      "application/vnd.jupyter.widget-view+json": {
       "model_id": "6eca605babb041c693860e3343899ac9",
       "version_major": 2,
       "version_minor": 0
      },
      "text/plain": [
       "0it [00:00, ?it/s]"
      ]
     },
     "metadata": {},
     "output_type": "display_data"
    },
    {
     "name": "stderr",
     "output_type": "stream",
     "text": [
      "2025-03-11 17:03:59,132 - INFO - Formatting results...\n",
      "2025-03-11 17:03:59,134 - INFO - Saving results to: ../test_files/test_outs/test_counts.csv\n",
      "2025-03-11 17:03:59,139 - INFO - Pipeline completed in 0.06 seconds\n"
     ]
    },
    {
     "name": "stdout",
     "output_type": "stream",
     "text": [
      "Results saved to: ../test_files/test_outs/test_counts.csv\n"
     ]
    }
   ],
   "source": [
    "from OligoSeeker.pipeline import PipelineConfig, OligoCodonPipeline\n",
    "from typing import Dict, List, Tuple, Set\n",
    "# Create a configuration\n",
    "config = PipelineConfig(\n",
    "    fastq_1=\"../test_files/test_1.fq.gz\",\n",
    "    fastq_2=\"../test_files/test_1.fq.gz\",\n",
    "    oligos_list=[\"GCGGATTACATTNNNAAATAACATCGT\", \"TGTGGTAAGCGGNNNGAAAGCATTTGT\", \"GTCGTAGAAAATNNNTGGGTGATGAGC\"],\n",
    "    output_path=\"../test_files/test_outs\",\n",
    "    output_prefix='test1'\n",
    ")\n",
    "\n",
    "\n",
    "\n",
    "# Create and run the pipeline\n",
    "pipeline = OligoCodonPipeline(config)\n",
    "results = pipeline.run()\n",
    "\n",
    "# Print the locations of output files\n",
    "print(f\"Results saved to: {results['csv_path']}\")"
   ]
  },
  {
   "cell_type": "code",
   "execution_count": null,
   "metadata": {},
   "outputs": [
    {
     "data": {
      "text/html": [
       "<div>\n",
       "<style scoped>\n",
       "    .dataframe tbody tr th:only-of-type {\n",
       "        vertical-align: middle;\n",
       "    }\n",
       "\n",
       "    .dataframe tbody tr th {\n",
       "        vertical-align: top;\n",
       "    }\n",
       "\n",
       "    .dataframe thead th {\n",
       "        text-align: right;\n",
       "    }\n",
       "</style>\n",
       "<table border=\"1\" class=\"dataframe\">\n",
       "  <thead>\n",
       "    <tr style=\"text-align: right;\">\n",
       "      <th></th>\n",
       "      <th>1_GCGGATTACATTNNNAAATAACATCGT</th>\n",
       "      <th>2_TGTGGTAAGCGGNNNGAAAGCATTTGT</th>\n",
       "      <th>3_GTCGTAGAAAATNNNTGGGTGATGAGC</th>\n",
       "    </tr>\n",
       "  </thead>\n",
       "  <tbody>\n",
       "    <tr>\n",
       "      <th>none</th>\n",
       "      <td>1980.0</td>\n",
       "      <td>1960.0</td>\n",
       "      <td>1940.0</td>\n",
       "    </tr>\n",
       "    <tr>\n",
       "      <th>ACT</th>\n",
       "      <td>20.0</td>\n",
       "      <td>0.0</td>\n",
       "      <td>0.0</td>\n",
       "    </tr>\n",
       "    <tr>\n",
       "      <th>GGC</th>\n",
       "      <td>0.0</td>\n",
       "      <td>40.0</td>\n",
       "      <td>0.0</td>\n",
       "    </tr>\n",
       "    <tr>\n",
       "      <th>AAA</th>\n",
       "      <td>0.0</td>\n",
       "      <td>0.0</td>\n",
       "      <td>60.0</td>\n",
       "    </tr>\n",
       "  </tbody>\n",
       "</table>\n",
       "</div>"
      ],
      "text/plain": [
       "      1_GCGGATTACATTNNNAAATAACATCGT  2_TGTGGTAAGCGGNNNGAAAGCATTTGT  \\\n",
       "none                         1980.0                         1960.0   \n",
       "ACT                            20.0                            0.0   \n",
       "GGC                             0.0                           40.0   \n",
       "AAA                             0.0                            0.0   \n",
       "\n",
       "      3_GTCGTAGAAAATNNNTGGGTGATGAGC  \n",
       "none                         1940.0  \n",
       "ACT                             0.0  \n",
       "GGC                             0.0  \n",
       "AAA                            60.0  "
      ]
     },
     "execution_count": null,
     "metadata": {},
     "output_type": "execute_result"
    }
   ],
   "source": [
    "# this should show 20, 40 and 60 matches\n",
    "import pandas as pd\n",
    "out = pd.read_csv(results['csv_path'],index_col=[0])\n",
    "out.head()"
   ]
  },
  {
   "cell_type": "markdown",
   "metadata": {},
   "source": [
    "Here's a simple example of using the Python API with oligo listed in a file:"
   ]
  },
  {
   "cell_type": "code",
   "execution_count": null,
   "metadata": {},
   "outputs": [
    {
     "name": "stderr",
     "output_type": "stream",
     "text": [
      "2025-03-11 17:16:28,838 - INFO - Starting OligoCodonPipeline\n",
      "2025-03-11 17:16:28,839 - INFO - Loading oligo sequences...\n",
      "2025-03-11 17:16:28,840 - INFO - Loading oligos from file: ../test_files/oligos.txt\n",
      "2025-03-11 17:16:28,841 - INFO - Loaded 3 oligo sequences\n",
      "2025-03-11 17:16:28,842 - INFO - Processing FASTQ files...\n"
     ]
    },
    {
     "data": {
      "application/vnd.jupyter.widget-view+json": {
       "model_id": "6f27bb390ef94003b573a17cdd7756b2",
       "version_major": 2,
       "version_minor": 0
      },
      "text/plain": [
       "0it [00:00, ?it/s]"
      ]
     },
     "metadata": {},
     "output_type": "display_data"
    },
    {
     "name": "stderr",
     "output_type": "stream",
     "text": [
      "2025-03-11 17:16:28,899 - INFO - Formatting results...\n",
      "2025-03-11 17:16:28,900 - INFO - Saving results to: ../test_files/test_outs/test2_counts.csv\n",
      "2025-03-11 17:16:28,905 - INFO - Pipeline completed in 0.07 seconds\n"
     ]
    },
    {
     "name": "stdout",
     "output_type": "stream",
     "text": [
      "Results saved to: ../test_files/test_outs/test2_counts.csv\n"
     ]
    }
   ],
   "source": [
    "from OligoSeeker.pipeline import PipelineConfig, OligoCodonPipeline\n",
    "from typing import Dict, List, Tuple, Set\n",
    "# Create a configuration\n",
    "config = PipelineConfig(\n",
    "    fastq_1=\"../test_files/test_1.fq.gz\",\n",
    "    fastq_2=\"../test_files/test_1.fq.gz\",\n",
    "    oligos_file=\"../test_files/oligos.txt\",\n",
    "    output_path=\"../test_files/test_outs\",\n",
    "    output_prefix='test2'\n",
    ")\n",
    "\n",
    "\n",
    "\n",
    "# Create and run the pipeline\n",
    "pipeline = OligoCodonPipeline(config)\n",
    "results = pipeline.run()\n",
    "\n",
    "# Print the locations of output files\n",
    "print(f\"Results saved to: {results['csv_path']}\")"
   ]
  },
  {
   "cell_type": "markdown",
   "metadata": {},
   "source": [
    "## Modules\n",
    "\n",
    "OligoSeeker is organized into several modules:"
   ]
  },
  {
   "cell_type": "markdown",
   "metadata": {},
   "source": [
    "### Core\n",
    "\n",
    "The [core module](./core.html) contains fundamental utilities and classes:\n",
    "- DNA sequence operations (reverse complement, etc.)\n",
    "- OligoRegex for pattern matching\n",
    "- OligoLoader for loading and validating oligo sequences"
   ]
  },
  {
   "cell_type": "markdown",
   "metadata": {},
   "source": [
    "### FASTQ Processing\n",
    "\n",
    "The [FASTQ module](./fastq.html) handles reading and processing FASTQ files:\n",
    "- FastqHandler for file operations\n",
    "- OligoCodonProcessor for counting codons in FASTQ files"
   ]
  },
  {
   "cell_type": "markdown",
   "metadata": {},
   "source": [
    "### Output\n",
    "\n",
    "The [output module](./output.html) manages results formatting and saving:\n",
    "- ResultsFormatter for converting results to DataFrames\n",
    "- ResultsSaver for saving to various file formats"
   ]
  },
  {
   "cell_type": "markdown",
   "metadata": {},
   "source": [
    "### Pipeline\n",
    "\n",
    "The [pipeline module](./pipeline.html) provides the complete processing pipeline:\n",
    "- PipelineConfig for configuration settings\n",
    "- ProgressReporter for progress tracking\n",
    "- OligoCodonPipeline for end-to-end processing"
   ]
  },
  {
   "cell_type": "markdown",
   "metadata": {},
   "source": [
    "### CLI\n",
    "\n",
    "The [CLI module](./cli.html) implements the command-line interface:\n",
    "- Argument parsing\n",
    "- Configuration validation\n",
    "- Pipeline execution"
   ]
  },
  {
   "cell_type": "markdown",
   "metadata": {},
   "source": [
    "## CLI Reference\n",
    "\n",
    "\n",
    "```bash\n",
    "usage: oligoseeker [-h] --f1 FASTQ_PATH_1 --f2 FASTQ_PATH_2\n",
    "                   [--oligos-file OLIGOS_FILE] [--oligos OLIGOS_STRING]\n",
    "                   [-o OUTPUT_PATH] [--prefix OUTPUT_PREFIX] [--offset OFFSET_OLIGO]\n",
    "                   [--log-file LOG_FILE]\n",
    "                   [--log-level {DEBUG,INFO,WARNING,ERROR,CRITICAL}]\n",
    "\n",
    "OligoSeeker: Process FASTQ files to count oligo codons\n",
    "\n",
    "options:\n",
    "  -h, --help            show this help message and exit\n",
    "  --f1 FASTQ_PATH_1, --fastq_1 FASTQ_PATH_1\n",
    "                        Path to FASTQ 1 file (default: ../test_fastq_files/test_1.fq.gz)\n",
    "  --f2 FASTQ_PATH_2, --fastq_2 FASTQ_PATH_2\n",
    "                        Path to FASTQ 2 file (default: ../test_fastq_files/test_2.fq.gz)\n",
    "  -o OUTPUT_PATH, --output OUTPUT_PATH\n",
    "                        Output directory for results (default: ./results)\n",
    "  --prefix OUTPUT_PREFIX\n",
    "                        Prefix for output files (default: )\n",
    "  --offset OFFSET_OLIGO\n",
    "                        Value to add to oligo index in output (default: 1)\n",
    "  --log-file LOG_FILE   Path to log file (if not specified, logs to console only)\n",
    "  --log-level {DEBUG,INFO,WARNING,ERROR,CRITICAL}\n",
    "                        Logging level (default: INFO)\n",
    "\n",
    "Oligo Source Options (one required):\n",
    "  --oligos-file OLIGOS_FILE\n",
    "                        File containing oligo sequences (one per line)\n",
    "  --oligos OLIGOS_STRING\n",
    "                        Comma-separated list of oligo sequences\n",
    "                        (default: GCGGATTACATTNNNAAATAACATCGT,TGTGGTAAGCGGNNNGAAAGCATTTGT,GTCGTAGAAAATNNNTGGGTGATGAGC)\n",
    "```"
   ]
  },
  {
   "cell_type": "markdown",
   "metadata": {},
   "source": [
    "## Data Requirements\n",
    "\n",
    "OligoSeeker works with standard paired FASTQ files, which should be named according to common conventions:\n",
    "\n",
    "- Read 1: `*_1.fq.gz`, `*_R1.fastq.gz`, or `*_R1_001.fastq.gz`\n",
    "- Read 2: `*_2.fq.gz`, `*_R2.fastq.gz`, or `*_R2_001.fastq.gz`\n",
    "\n",
    "The oligo sequences should include a codon site marked with `NNN`. For example:\n",
    "```\n",
    "GAACNNNCAT\n",
    "TGACNNNTAG\n",
    "```\n",
    "\n",
    "This specifies that the 3 bases following `GAAC` or `TGAC` should be captured as the codon."
   ]
  },
  {
   "cell_type": "markdown",
   "metadata": {},
   "source": [
    "## Contributing\n",
    "\n",
    "Contributions are welcome! Please feel free to submit a Pull Request.\n",
    "\n",
    "### Development Setup\n",
    "\n",
    "1. Clone the repository\n",
    "2. Install development dependencies:\n",
    "   ```bash\n",
    "   pip install -e \".[dev]\"\n",
    "   pip install nbdev\n",
    "   ```\n",
    "3. Make changes to the notebook files in the `nbs` directory\n",
    "4. Build the library:\n",
    "   ```bash\n",
    "   nbdev_build_lib\n",
    "   ```\n",
    "5. Build the documentation:\n",
    "   ```bash\n",
    "   nbdev_build_docs\n",
    "   ```"
   ]
  },
  {
   "cell_type": "markdown",
   "metadata": {},
   "source": [
    "## License\n",
    "\n",
    "This project is licensed under the Apache 2.0 License - see the LICENSE file for details."
   ]
  },
  {
   "cell_type": "code",
   "execution_count": null,
   "metadata": {},
   "outputs": [],
   "source": [
    "#| hide\n",
    "import nbdev; nbdev.nbdev_export()"
   ]
  }
 ],
 "metadata": {
  "kernelspec": {
   "display_name": "python3",
   "language": "python",
   "name": "python3"
  }
 },
 "nbformat": 4,
 "nbformat_minor": 4
}
