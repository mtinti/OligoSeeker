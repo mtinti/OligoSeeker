{
 "cells": [
  {
   "cell_type": "code",
   "execution_count": null,
   "metadata": {},
   "outputs": [],
   "source": [
    "#| hide\n",
    "%load_ext autoreload\n",
    "%autoreload 2"
   ]
  },
  {
   "cell_type": "markdown",
   "metadata": {},
   "source": [
    "# OligoSeeker\n",
    "\n",
    ">[![DOI](https://zenodo.org/badge/946567115.svg)](https://doi.org/10.5281/zenodo.15011916)\n",
    "\n",
    "> A Python library for processing FASTQ files to count oligo codons\n",
    "\n",
    "https://mtinti.github.io/OligoSeeker/\n"
   ]
  },
  {
   "cell_type": "markdown",
   "metadata": {},
   "source": [
    "## Installation"
   ]
  },
  {
   "cell_type": "markdown",
   "metadata": {},
   "source": [
    "You can install the package via pip:\n",
    "\n",
    "```bash\n",
    "pip install oligoseeker\n",
    "```\n",
    "\n",
    "Or directly from the repository:\n",
    "\n",
    "```bash\n",
    "pip install git+https://github.com/username/OligoSeeker.git\n",
    "```"
   ]
  },
  {
   "cell_type": "markdown",
   "metadata": {},
   "source": [
    "## Overview\n",
    "\n",
    "OligoSeeker is a Python library designed to process paired FASTQ files and count occurrences of specific oligo codons. It provides a simple yet powerful interface for bioinformatics researchers working with oligonucleotide analysis."
   ]
  },
  {
   "cell_type": "markdown",
   "metadata": {},
   "source": [
    "## Features\n",
    "\n",
    "- Process paired FASTQ files (gzipped or uncompressed)\n",
    "- Search for custom oligo sequences with codon sites (NNN)\n",
    "- Support for both forward and reverse complement matching\n",
    "- Comprehensive results in CSV format\n",
    "- Merge functionality to combine results from multiple samples\n",
    "- User-friendly command-line interface with multiple modes\n",
    "- Modular design for integration with other tools"
   ]
  },
  {
   "cell_type": "markdown",
   "metadata": {},
   "source": [
    "## Scientific Background: Oligonucleotide-Targeted Mutagenesis\n",
    "\n",
    "Oligonucleotide-targeted mutagenesis is a powerful technique in molecular biology that enables precise alterations of DNA sequences. In this approach, synthetic oligonucleotides (short DNA fragments, typically 20-60 nucleotides) are designed to target specific locations in a gene, allowing researchers to introduce defined mutations.\n",
    "\n",
    "### The Structure of Mutagenic Oligos\n",
    "\n",
    "A typical mutagenic oligo has three distinct components:\n",
    "\n",
    "1. **5' Homology Arm**: A sequence that matches the target DNA upstream of the mutation site, providing specificity.\n",
    "2. **Mutation Site (NNN)**: The actual mutation being introduced, often represented as \"NNN\" when a mixture of all possible codons is used.\n",
    "3. **3' Homology Arm**: A sequence that matches the target DNA downstream of the mutation site, providing additional specificity.\n",
    "\n",
    "For example, if our target DNA sequence is:\n",
    "```\n",
    "5'-ATGCATGCATGCATGCATGCATGCATGCATGC-3'\n",
    "```\n",
    "\n",
    "And we want to mutagenize the underlined codon:\n",
    "```\n",
    "5'-ATGCATGCATGCAT___GCATGCATGCATGCATGC-3'\n",
    "```\n",
    "\n",
    "We would design an oligo like:\n",
    "```\n",
    "5'-ATGCATGCATGCATNNNGCATGCATGCATGC-3'\n",
    "```\n",
    "\n",
    "### Why Use NNN Codons?\n",
    "\n",
    "The \"NNN\" in the oligo represents a mixture of all possible nucleotide combinations at that position:\n",
    "- N = A mixture of A, T, G, and C\n",
    "- NNN = All 64 possible codons (4³ = 64)\n",
    "\n",
    "This approach allows:\n",
    "- **Saturation mutagenesis**: Testing all possible amino acid substitutions at a position\n",
    "- **Structure-function studies**: Identifying critical residues in proteins\n",
    "- **Protein engineering**: Optimizing enzyme activity or stability\n",
    "\n",
    "### Deep Sequencing of Mutagenesis Libraries\n",
    "\n",
    "After the mutagenesis reaction, the resulting DNA library contains a mixture of variants with different codons at the target position. Next-generation sequencing technologies allow researchers to sequence thousands or millions of these variants simultaneously.\n",
    "\n",
    "`OligoSeeker` helps analyze this sequencing data by:\n",
    "1. Identifying reads that contain the mutagenic oligo\n",
    "2. Extracting the specific codon present at the NNN position\n",
    "3. Counting the frequency of each codon variant\n",
    "\n",
    "This information is crucial for:\n",
    "- Verifying library coverage (were all possible codons incorporated?)\n",
    "- Quantifying biases in the mutagenesis process\n",
    "- Analyzing selection experiments where certain variants may be enriched\n",
    "\n"
   ]
  },
  {
   "cell_type": "markdown",
   "metadata": {},
   "source": [
    "## How It Works\n",
    "\n",
    "OligoSeeker searches for specific oligonucleotide patterns in paired FASTQ reads. When it finds a match, it extracts the codon sequence (represented by NNN in the oligo pattern) and tallies its occurrence. The library handles both forward and reverse complement matching, ensuring comprehensive detection.\n",
    "\n",
    "The basic count workflow is:\n",
    "1. Load and validate oligo sequences\n",
    "2. Process paired FASTQ files\n",
    "3. Count codon occurrences for each oligo\n",
    "4. Output results in CSV format\n",
    "\n",
    "Additionally, the merge workflow allows you to:\n",
    "1. Process multiple samples independently\n",
    "2. Combine the count results from different runs\n",
    "3. Sum the codon occurrences across samples\n",
    "4. Analyze patterns across a larger dataset"
   ]
  },
  {
   "cell_type": "markdown",
   "metadata": {},
   "source": [
    "## Performance and Compatibility\n",
    "\n",
    "OligoSeeker has been tested on both Linux and macOS platforms\n",
    "\n",
    "- **Test Case**: 1 oligo (33 bp) analyzed in 150 bp paired-end FASTQ files containing 300 million reads\n",
    "- **Processing Time**:\n",
    "  - ~1 hour on a high-performance compute cluster\n",
    "  - ~1.5 hours on a standard MacBook Pro\n",
    "\n",
    "### Scalability\n",
    "\n",
    "For large datasets, we've implemented an efficient workflow to significantly increase throughput:\n",
    "\n",
    "1. **File Splitting**: Large FASTQ files are split into smaller chunks using [seqkit](https://bioinf.shenwei.me/seqkit/), a high-performance toolkit for FASTA/Q file manipulation\n",
    "2. **Parallel Processing**: OligoSeeker is applied in parallel to each chunk independently\n",
    "3. **Result Merging**: Individual results are merged using OligoSeeker's built-in merge functionality"
   ]
  },
  {
   "cell_type": "markdown",
   "metadata": {},
   "source": [
    "## Quick Start\n",
    "\n",
    "### Command-Line Usage\n",
    "\n",
    "```bash\n",
    "# Basic usage with oligos\n",
    "!oligoseeker -m count \\\n",
    "--f1 ../test_files/test_1.fq.gz \\\n",
    "--f2 ../test_files/test_2.fq.gz \\\n",
    "--oligos \"GCGGATTACATTNNNAAATAACATCGT,TGTGGTAAGCGGNNNGAAAGCATTTGT\" \\\n",
    "--output ../test_files/test_outs --prefix test_cm3\n",
    "\n",
    "# Basic usage with oligos files\n",
    "oligoseeker -m count \\\n",
    "--f1 ../test_files/test_1.fq.gz \\\n",
    "--f2 ../test_files/test_2.fq.gz \\\n",
    "--oligos-file '../test_files/oligos.txt' \\\n",
    "--output ../test_files/test_outs --prefix test_cm4\n",
    "\n",
    "# Basic usage to merge oligo counts\n",
    "oligoseeker -m merge \\\n",
    "--output-file 'merge_cl.csv' \\\n",
    "--input-dir ../test_files/test_outs \\\n",
    "--output ../test_files/merged \n",
    "```"
   ]
  },
  {
   "cell_type": "markdown",
   "metadata": {},
   "source": [
    "### Python API Usage\n",
    "\n",
    "Here's a simple example of using the Python API:"
   ]
  },
  {
   "cell_type": "code",
   "execution_count": null,
   "metadata": {},
   "outputs": [
    {
     "name": "stderr",
     "output_type": "stream",
     "text": [
      "/Users/MTinti/miniconda3/envs/work3/lib/python3.10/site-packages/pandas/core/arrays/masked.py:60: UserWarning: Pandas requires version '1.3.6' or newer of 'bottleneck' (version '1.3.4' currently installed).\n",
      "  from pandas.core import (\n",
      "2025-03-11 19:50:45,590 - INFO - Starting OligoCodonPipeline\n",
      "2025-03-11 19:50:45,591 - INFO - Loading oligo sequences...\n",
      "2025-03-11 19:50:45,591 - INFO - Using provided oligo list\n",
      "2025-03-11 19:50:45,591 - INFO - Loaded 3 oligo sequences\n",
      "2025-03-11 19:50:45,592 - INFO - Processing FASTQ files...\n"
     ]
    },
    {
     "data": {
      "application/vnd.jupyter.widget-view+json": {
       "model_id": "c7b5028623574790967acb385c1e216c",
       "version_major": 2,
       "version_minor": 0
      },
      "text/plain": [
       "0it [00:00, ?it/s]"
      ]
     },
     "metadata": {},
     "output_type": "display_data"
    },
    {
     "name": "stderr",
     "output_type": "stream",
     "text": [
      "2025-03-11 19:50:45,666 - INFO - Formatting results...\n",
      "2025-03-11 19:50:45,669 - INFO - Saving results to: ../test_files/test_outs/test1_counts.csv\n",
      "2025-03-11 19:50:45,679 - INFO - Pipeline completed in 0.09 seconds\n"
     ]
    },
    {
     "name": "stdout",
     "output_type": "stream",
     "text": [
      "Results saved to: ../test_files/test_outs/test1_counts.csv\n"
     ]
    }
   ],
   "source": [
    "from OligoSeeker.pipeline import PipelineConfig, OligoCodonPipeline\n",
    "from typing import Dict, List, Tuple, Set\n",
    "# Create a configuration\n",
    "config = PipelineConfig(\n",
    "    fastq_1=\"../test_files/test_1.fq.gz\",\n",
    "    fastq_2=\"../test_files/test_1.fq.gz\",\n",
    "    oligos_list=[\"GCGGATTACATTNNNAAATAACATCGT\", \"TGTGGTAAGCGGNNNGAAAGCATTTGT\", \"GTCGTAGAAAATNNNTGGGTGATGAGC\"],\n",
    "    output_path=\"../test_files/test_outs\",\n",
    "    output_prefix='test1'\n",
    ")\n",
    "\n",
    "# Create and run the pipeline\n",
    "pipeline = OligoCodonPipeline(config)\n",
    "results = pipeline.run()\n",
    "\n",
    "# Print the locations of output files\n",
    "print(f\"Results saved to: {results['csv_path']}\")"
   ]
  },
  {
   "cell_type": "code",
   "execution_count": null,
   "metadata": {},
   "outputs": [
    {
     "data": {
      "text/html": [
       "<div>\n",
       "<style scoped>\n",
       "    .dataframe tbody tr th:only-of-type {\n",
       "        vertical-align: middle;\n",
       "    }\n",
       "\n",
       "    .dataframe tbody tr th {\n",
       "        vertical-align: top;\n",
       "    }\n",
       "\n",
       "    .dataframe thead th {\n",
       "        text-align: right;\n",
       "    }\n",
       "</style>\n",
       "<table border=\"1\" class=\"dataframe\">\n",
       "  <thead>\n",
       "    <tr style=\"text-align: right;\">\n",
       "      <th></th>\n",
       "      <th>1_GCGGATTACATTNNNAAATAACATCGT</th>\n",
       "      <th>2_TGTGGTAAGCGGNNNGAAAGCATTTGT</th>\n",
       "      <th>3_GTCGTAGAAAATNNNTGGGTGATGAGC</th>\n",
       "    </tr>\n",
       "  </thead>\n",
       "  <tbody>\n",
       "    <tr>\n",
       "      <th>none</th>\n",
       "      <td>1980.0</td>\n",
       "      <td>1960.0</td>\n",
       "      <td>1940.0</td>\n",
       "    </tr>\n",
       "    <tr>\n",
       "      <th>ACT</th>\n",
       "      <td>20.0</td>\n",
       "      <td>0.0</td>\n",
       "      <td>0.0</td>\n",
       "    </tr>\n",
       "    <tr>\n",
       "      <th>GGC</th>\n",
       "      <td>0.0</td>\n",
       "      <td>40.0</td>\n",
       "      <td>0.0</td>\n",
       "    </tr>\n",
       "    <tr>\n",
       "      <th>AAA</th>\n",
       "      <td>0.0</td>\n",
       "      <td>0.0</td>\n",
       "      <td>60.0</td>\n",
       "    </tr>\n",
       "  </tbody>\n",
       "</table>\n",
       "</div>"
      ],
      "text/plain": [
       "      1_GCGGATTACATTNNNAAATAACATCGT  2_TGTGGTAAGCGGNNNGAAAGCATTTGT  \\\n",
       "none                         1980.0                         1960.0   \n",
       "ACT                            20.0                            0.0   \n",
       "GGC                             0.0                           40.0   \n",
       "AAA                             0.0                            0.0   \n",
       "\n",
       "      3_GTCGTAGAAAATNNNTGGGTGATGAGC  \n",
       "none                         1940.0  \n",
       "ACT                             0.0  \n",
       "GGC                             0.0  \n",
       "AAA                            60.0  "
      ]
     },
     "execution_count": null,
     "metadata": {},
     "output_type": "execute_result"
    }
   ],
   "source": [
    "# this should show 20 (ACT), 40 (GGC) and 60 matches (AAA) for\n",
    "# oligo 1, 2 and 3 respectievely\n",
    "import pandas as pd\n",
    "out = pd.read_csv(results['csv_path'],index_col=[0])\n",
    "out.head()"
   ]
  },
  {
   "cell_type": "markdown",
   "metadata": {},
   "source": [
    "Here's a simple example of using the Python API with oligo listed in a file:"
   ]
  },
  {
   "cell_type": "code",
   "execution_count": null,
   "metadata": {},
   "outputs": [
    {
     "name": "stderr",
     "output_type": "stream",
     "text": [
      "2025-03-11 19:51:08,402 - INFO - Starting OligoCodonPipeline\n",
      "2025-03-11 19:51:08,403 - INFO - Loading oligo sequences...\n",
      "2025-03-11 19:51:08,404 - INFO - Loading oligos from file: ../test_files/oligos.txt\n",
      "2025-03-11 19:51:08,407 - INFO - Loaded 3 oligo sequences\n",
      "2025-03-11 19:51:08,407 - INFO - Processing FASTQ files...\n"
     ]
    },
    {
     "data": {
      "application/vnd.jupyter.widget-view+json": {
       "model_id": "49b4e7a08a9340018e7461a4cdabb84d",
       "version_major": 2,
       "version_minor": 0
      },
      "text/plain": [
       "0it [00:00, ?it/s]"
      ]
     },
     "metadata": {},
     "output_type": "display_data"
    },
    {
     "name": "stderr",
     "output_type": "stream",
     "text": [
      "2025-03-11 19:51:08,462 - INFO - Formatting results...\n",
      "2025-03-11 19:51:08,463 - INFO - Saving results to: ../test_files/test_outs/test2_counts.csv\n",
      "2025-03-11 19:51:08,468 - INFO - Pipeline completed in 0.07 seconds\n"
     ]
    },
    {
     "name": "stdout",
     "output_type": "stream",
     "text": [
      "Results saved to: ../test_files/test_outs/test2_counts.csv\n"
     ]
    }
   ],
   "source": [
    "from OligoSeeker.pipeline import PipelineConfig, OligoCodonPipeline\n",
    "from typing import Dict, List, Tuple, Set\n",
    "# Create a configuration\n",
    "config = PipelineConfig(\n",
    "    fastq_1=\"../test_files/test_1.fq.gz\",\n",
    "    fastq_2=\"../test_files/test_1.fq.gz\",\n",
    "    oligos_file=\"../test_files/oligos.txt\",\n",
    "    output_path=\"../test_files/test_outs\",\n",
    "    output_prefix='test2'\n",
    ")\n",
    "\n",
    "\n",
    "\n",
    "# Create and run the pipeline\n",
    "pipeline = OligoCodonPipeline(config)\n",
    "results = pipeline.run()\n",
    "\n",
    "# Print the locations of output files\n",
    "print(f\"Results saved to: {results['csv_path']}\")"
   ]
  },
  {
   "cell_type": "markdown",
   "metadata": {},
   "source": [
    "### Merging Count Files\n",
    "\n",
    "You can merge multiple count files from different runs to combine results:\n"
   ]
  },
  {
   "cell_type": "code",
   "execution_count": null,
   "metadata": {},
   "outputs": [
    {
     "name": "stdout",
     "output_type": "stream",
     "text": [
      "Found 6 CSV files to merge\n",
      "  Loaded ../test_files/test_outs/test_cm2_counts.csv with 4 rows and 3 columns\n",
      "  Loaded ../test_files/test_outs/test2_counts.csv with 4 rows and 3 columns\n",
      "  Loaded ../test_files/test_outs/test1_counts.csv with 4 rows and 3 columns\n",
      "  Loaded ../test_files/test_outs/test_cm3_counts.csv with 3 rows and 2 columns\n",
      "  Loaded ../test_files/test_outs/test_cm4_counts.csv with 4 rows and 3 columns\n",
      "  Loaded ../test_files/test_outs/test_cm1_counts.csv with 4 rows and 3 columns\n",
      "Merged data saved to ../test_files/merged/merged_counts.csv\n",
      "Merged 4 codons across 3 oligos\n"
     ]
    },
    {
     "data": {
      "text/html": [
       "<div>\n",
       "<style scoped>\n",
       "    .dataframe tbody tr th:only-of-type {\n",
       "        vertical-align: middle;\n",
       "    }\n",
       "\n",
       "    .dataframe tbody tr th {\n",
       "        vertical-align: top;\n",
       "    }\n",
       "\n",
       "    .dataframe thead th {\n",
       "        text-align: right;\n",
       "    }\n",
       "</style>\n",
       "<table border=\"1\" class=\"dataframe\">\n",
       "  <thead>\n",
       "    <tr style=\"text-align: right;\">\n",
       "      <th></th>\n",
       "      <th>1_GCGGATTACATTNNNAAATAACATCGT</th>\n",
       "      <th>2_TGTGGTAAGCGGNNNGAAAGCATTTGT</th>\n",
       "      <th>3_GTCGTAGAAAATNNNTGGGTGATGAGC</th>\n",
       "    </tr>\n",
       "  </thead>\n",
       "  <tbody>\n",
       "    <tr>\n",
       "      <th>AAA</th>\n",
       "      <td>0.0</td>\n",
       "      <td>0.0</td>\n",
       "      <td>300.0</td>\n",
       "    </tr>\n",
       "    <tr>\n",
       "      <th>ACT</th>\n",
       "      <td>120.0</td>\n",
       "      <td>0.0</td>\n",
       "      <td>0.0</td>\n",
       "    </tr>\n",
       "    <tr>\n",
       "      <th>GGC</th>\n",
       "      <td>0.0</td>\n",
       "      <td>240.0</td>\n",
       "      <td>0.0</td>\n",
       "    </tr>\n",
       "    <tr>\n",
       "      <th>none</th>\n",
       "      <td>11880.0</td>\n",
       "      <td>11760.0</td>\n",
       "      <td>9700.0</td>\n",
       "    </tr>\n",
       "  </tbody>\n",
       "</table>\n",
       "</div>"
      ],
      "text/plain": [
       "      1_GCGGATTACATTNNNAAATAACATCGT  2_TGTGGTAAGCGGNNNGAAAGCATTTGT  \\\n",
       "AAA                             0.0                            0.0   \n",
       "ACT                           120.0                            0.0   \n",
       "GGC                             0.0                          240.0   \n",
       "none                        11880.0                        11760.0   \n",
       "\n",
       "      3_GTCGTAGAAAATNNNTGGGTGATGAGC  \n",
       "AAA                           300.0  \n",
       "ACT                             0.0  \n",
       "GGC                             0.0  \n",
       "none                         9700.0  "
      ]
     },
     "execution_count": null,
     "metadata": {},
     "output_type": "execute_result"
    }
   ],
   "source": [
    "from OligoSeeker.merge import merge_count_csvs\n",
    "\n",
    "# Merge all count files in a directory\n",
    "merged_df = merge_count_csvs(\n",
    "    input_dir=\"../test_files/test_outs\",  # Directory containing count files\n",
    "    output_file=\"merged_counts.csv\",      # Output filename\n",
    "    output_dir=\"../test_files/merged\",    # Output directory\n",
    "    pattern=\"*_counts.csv\"                # Pattern to match files\n",
    ")\n",
    "\n",
    "print(f\"Merged {len(merged_df)} codons across {len(merged_df.columns)} oligos\")\n",
    "merged_df.head()"
   ]
  },
  {
   "cell_type": "markdown",
   "metadata": {},
   "source": [
    "## Modules\n",
    "\n",
    "OligoSeeker is organized into several modules:"
   ]
  },
  {
   "cell_type": "markdown",
   "metadata": {},
   "source": [
    "### Core\n",
    "\n",
    "The [core module](./core.html) contains fundamental utilities and classes:\n",
    "- DNA sequence operations (reverse complement, etc.)\n",
    "- OligoRegex for pattern matching\n",
    "- OligoLoader for loading and validating oligo sequences"
   ]
  },
  {
   "cell_type": "markdown",
   "metadata": {},
   "source": [
    "### FASTQ Processing\n",
    "\n",
    "The [FASTQ module](./fastq.html) handles reading and processing FASTQ files:\n",
    "- FastqHandler for file operations\n",
    "- OligoCodonProcessor for counting codons in FASTQ files"
   ]
  },
  {
   "cell_type": "markdown",
   "metadata": {},
   "source": [
    "### Output\n",
    "\n",
    "The [output module](./output.html) manages results formatting and saving:\n",
    "- ResultsFormatter for converting results to DataFrames\n",
    "- ResultsSaver for saving to various file formats"
   ]
  },
  {
   "cell_type": "markdown",
   "metadata": {},
   "source": [
    "### Pipeline\n",
    "\n",
    "The [pipeline module](./pipeline.html) provides the complete processing pipeline:\n",
    "- PipelineConfig for configuration settings\n",
    "- ProgressReporter for progress tracking\n",
    "- OligoCodonPipeline for end-to-end processing"
   ]
  },
  {
   "cell_type": "markdown",
   "metadata": {},
   "source": [
    "### Merge\n",
    "\n",
    "The [merge module](./merge.html) provides functionality to combine multiple count results:\n",
    "- Merge count CSV files by summing values\n",
    "- Support for flexible output naming and location\n",
    "- Pattern matching to select specific files"
   ]
  },
  {
   "cell_type": "markdown",
   "metadata": {},
   "source": [
    "### CLI\n",
    "\n",
    "The [CLI module](./cli.html) implements the command-line interface:\n",
    "- Argument parsing\n",
    "- Configuration validation\n",
    "- Pipeline execution"
   ]
  },
  {
   "cell_type": "markdown",
   "metadata": {},
   "source": [
    "## Quick Start\n",
    "\n",
    "### Command-Line Usage\n",
    "\n",
    "For count mode (processing FASTQ files):\n",
    "```bash\n",
    "# Using oligos directly specified\n",
    "oligoseeker -m count --f1 test_files/test_1.fq.gz --f2 test_files/test_2.fq.gz \\\n",
    "--oligos \"GCGGATTACATTNNNAAATAACATCGT,TGTGGTAAGCGGNNNGAAAGCATTTGT\" \\\n",
    "--output test_outs --prefix test_run1\n",
    "\n",
    "# Using oligos from a file\n",
    "oligoseeker -m count --f1 test_files/test_1.fq.gz --f2 test_files/test_2.fq.gz \\\n",
    "--oligos-file test_files/oligos.txt --output test_outs --prefix test_run2\n",
    "```\n",
    "\n",
    "For merge mode (combining multiple count files):\n",
    "```bash\n",
    "# Merge all count files in a directory\n",
    "oligoseeker -m merge --input-dir test_outs --output test_outs/merged \\\n",
    "--output-file combined_counts.csv\n",
    "```\n",
    "\n",
    "## CLI Reference\n",
    "\n",
    "```bash\n",
    "usage: oligoseeker [-h] [-m {count,merge}] [--f1 FASTQ_PATH_1] [--f2 FASTQ_PATH_2]\n",
    "                  [--oligos-file OLIGOS_FILE] [--oligos OLIGOS_STRING]\n",
    "                  [--offset OFFSET_OLIGO] [--input-dir INPUT_DIR]\n",
    "                  [--output-file OUTPUT_FILE] [--pattern PATTERN]\n",
    "                  [-o OUTPUT_PATH] [--prefix OUTPUT_PREFIX]\n",
    "                  [--log-file LOG_FILE]\n",
    "                  [--log-level {DEBUG,INFO,WARNING,ERROR,CRITICAL}]\n",
    "\n",
    "OligoSeeker: Process FASTQ files to count oligo codons\n",
    "\n",
    "options:\n",
    "  -h, --help            show this help message and exit\n",
    "  -m {count,merge}, --mode {count,merge}\n",
    "                        Operation mode: 'count' to process FASTQ files or 'merge' to combine CSV counts (default: count)\n",
    "  -o OUTPUT_PATH, --output OUTPUT_PATH\n",
    "                        Output directory for results (default: ../test_files/test_outs)\n",
    "  --prefix OUTPUT_PREFIX\n",
    "                        Prefix for output files (default: )\n",
    "  --log-file LOG_FILE   Path to log file (if not specified, logs to console only)\n",
    "  --log-level {DEBUG,INFO,WARNING,ERROR,CRITICAL}\n",
    "                        Logging level (default: INFO)\n",
    "\n",
    "Count Mode Options:\n",
    "  --f1 FASTQ_PATH_1, --fastq_1 FASTQ_PATH_1\n",
    "                        Path to FASTQ 1 file (default: ../test_fastq_files/test_1.fq.gz)\n",
    "  --f2 FASTQ_PATH_2, --fastq_2 FASTQ_PATH_2\n",
    "                        Path to FASTQ 2 file (default: ../test_fastq_files/test_2.fq.gz)\n",
    "\n",
    "Oligo Source Options:\n",
    "  --oligos-file OLIGOS_FILE\n",
    "                        File containing oligo sequences (one per line)\n",
    "  --oligos OLIGOS_STRING\n",
    "                        Comma-separated list of oligo sequences\n",
    "                        (default: GCGGATTACATTNNNAAATAACATCGT,TGTGGTAAGCGGNNNGAAAGCATTTGT,GTCGTAGAAAATNNNTGGGTGATGAGC)\n",
    "  --offset OFFSET_OLIGO\n",
    "                        Value to add to oligo index in output (default: 1)\n",
    "\n",
    "Merge Mode Options:\n",
    "  --input-dir INPUT_DIR\n",
    "                        Directory containing CSV files to merge (required for merge mode)\n",
    "  --output-file OUTPUT_FILE\n",
    "                        Name of the output merged file (default: merged_counts.csv)\n",
    "  --pattern PATTERN     Pattern to match CSV files (default: *count*.csv)\n",
    "```"
   ]
  },
  {
   "cell_type": "markdown",
   "metadata": {},
   "source": [
    "## Data Requirements\n",
    "\n",
    "OligoSeeker works with standard paired FASTQ files, which should be named according to common conventions:\n",
    "\n",
    "- Read 1: `*_1.fq.gz`, `*_R1.fastq.gz`, or `*_R1_001.fastq.gz`\n",
    "- Read 2: `*_2.fq.gz`, `*_R2.fastq.gz`, or `*_R2_001.fastq.gz`\n",
    "\n",
    "The oligo sequences should include a codon site marked with `NNN`. For example:\n",
    "```\n",
    "GAACNNNCAT\n",
    "TGACNNNTAG\n",
    "```\n",
    "\n",
    "This specifies that the 3 bases following `GAAC` or `TGAC` should be captured as the codon."
   ]
  },
  {
   "cell_type": "markdown",
   "metadata": {},
   "source": [
    "## Contributing\n",
    "\n",
    "Contributions are welcome! Please feel free to submit a Pull Request.\n",
    "\n",
    "### Development Setup\n",
    "\n",
    "1. Clone the repository\n",
    "2. Install development dependencies:\n",
    "   ```bash\n",
    "   pip install -e \".[dev]\"\n",
    "   pip install nbdev\n",
    "   ```\n",
    "3. Make changes to the notebook files in the `nbs` directory\n",
    "4. Build the library:\n",
    "   ```bash\n",
    "   nbdev_build_lib\n",
    "   ```\n",
    "5. Build the documentation:\n",
    "   ```bash\n",
    "   nbdev_build_docs\n",
    "   ```"
   ]
  },
  {
   "cell_type": "markdown",
   "metadata": {},
   "source": [
    "## License\n",
    "\n",
    "This project is licensed under the Apache 2.0 License - see the LICENSE file for details."
   ]
  },
  {
   "cell_type": "code",
   "execution_count": null,
   "metadata": {},
   "outputs": [],
   "source": [
    "#| hide\n",
    "import nbdev; nbdev.nbdev_export()"
   ]
  }
 ],
 "metadata": {
  "kernelspec": {
   "display_name": "python3",
   "language": "python",
   "name": "python3"
  }
 },
 "nbformat": 4,
 "nbformat_minor": 4
}
